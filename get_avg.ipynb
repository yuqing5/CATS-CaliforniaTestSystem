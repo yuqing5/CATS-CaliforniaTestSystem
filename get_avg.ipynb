{
 "cells": [
  {
   "cell_type": "code",
   "execution_count": 81,
   "metadata": {},
   "outputs": [],
   "source": [
    "import scipy.io\n",
    "import numpy as np\n",
    "import collections\n",
    "import pandas as pd"
   ]
  },
  {
   "cell_type": "code",
   "execution_count": 105,
   "metadata": {},
   "outputs": [],
   "source": [
    "bus = scipy.io.loadmat('MATPOWER/bus.mat')['bus']\n",
    "branch = scipy.io.loadmat('MATPOWER/branch.mat')['brach']\n",
    "gen = scipy.io.loadmat('MATPOWER/gen.mat')['gen']\n",
    "gencost = scipy.io.loadmat('MATPOWER/gencost.mat')['gencost']"
   ]
  },
  {
   "cell_type": "code",
   "execution_count": 106,
   "metadata": {},
   "outputs": [],
   "source": [
    "power_demand = bus[:, 2][bus[:,2] != 0.0] \n",
    "num_buses = len(power_demand)\n",
    "line_to_nodes = branch[:, [0, 1]] -1\n",
    "num_lines = len(line_to_nodes) # I get 10823, the paper says there are 10162 lines and 661 transformers\n",
    "graph = collections.defaultdict(list) # from: (to, line)\n",
    "graph_reverse = collections.defaultdict(list) # to: (from, line)\n",
    "for i, buses in enumerate(line_to_nodes):\n",
    "    graph[buses[0]].append((buses[1], i))\n",
    "    graph_reverse[buses[1]].append((buses[0], i))"
   ]
  },
  {
   "cell_type": "code",
   "execution_count": 107,
   "metadata": {},
   "outputs": [],
   "source": [
    "df = pd.read_csv(\"GIS/CATS_gens.csv\")\n",
    "df = df.drop_duplicates(subset=['bus'])\n",
    "gen_fuel_type = df['FuelType'].to_numpy()"
   ]
  },
  {
   "cell_type": "code",
   "execution_count": 121,
   "metadata": {},
   "outputs": [],
   "source": [
    "#_, idx = np.unique(gen[:,0], return_index=True) # generator and bus are mismatch by 1 index. ie. gen 745 = bus[744]\n",
    "power_generation = []\n",
    "generator = []\n",
    "#map(int, generator)\n",
    "gen_cost = [] # simply sum up the cost\n",
    "num_gen = len(generator)\n",
    "seen = set()\n",
    "for i, row in enumerate(gen):\n",
    "    if row[0] < 2472 and row[0] not in seen:\n",
    "        generator.append(row[0])\n",
    "        power_generation.append(row[1])\n",
    "        gen_cost.append(sum(gencost[i][1:7]))\n",
    "        seen.add(row[0])\n",
    "num_gen = len(generator)"
   ]
  },
  {
   "cell_type": "code",
   "execution_count": 126,
   "metadata": {},
   "outputs": [
    {
     "data": {
      "text/plain": [
       "1126"
      ]
     },
     "execution_count": 126,
     "metadata": {},
     "output_type": "execute_result"
    }
   ],
   "source": [
    "generator = gen[:,0][gen[:,0] < 2472]\n",
    "len(set(generator))"
   ]
  },
  {
   "cell_type": "code",
   "execution_count": 122,
   "metadata": {},
   "outputs": [
    {
     "data": {
      "text/plain": [
       "1126"
      ]
     },
     "execution_count": 122,
     "metadata": {},
     "output_type": "execute_result"
    }
   ],
   "source": [
    "num_gen"
   ]
  },
  {
   "cell_type": "code",
   "execution_count": 119,
   "metadata": {},
   "outputs": [
    {
     "data": {
      "text/plain": [
       "8867.0"
      ]
     },
     "execution_count": 119,
     "metadata": {},
     "output_type": "execute_result"
    }
   ],
   "source": [
    "max(generator)"
   ]
  },
  {
   "cell_type": "code",
   "execution_count": 109,
   "metadata": {},
   "outputs": [
    {
     "name": "stdout",
     "output_type": "stream",
     "text": [
      "Number of transmission lines and transformers: 10823\n",
      "Number of buses: 2472\n",
      "Number of generators: 2197\n"
     ]
    }
   ],
   "source": [
    "print(\"Number of transmission lines and transformers: \" + str(num_lines))\n",
    "print(\"Number of buses: \" + str(num_buses))\n",
    "print(\"Number of generators: \" + str(num_gen))"
   ]
  },
  {
   "cell_type": "code",
   "execution_count": 110,
   "metadata": {},
   "outputs": [],
   "source": [
    "line_to_gen = collections.defaultdict(set)\n",
    "node_to_gen = collections.defaultdict(set)\n",
    "def dfs(g, n, visited):\n",
    "    if n in visited: return\n",
    "    visited.add(n)\n",
    "    node_to_gen[n].add(g)\n",
    "    for nei, line in graph[n]:\n",
    "        line_to_gen[line].add(g)\n",
    "        dfs(g, nei, visited)\n",
    "for i, g in enumerate(generator):\n",
    "    visited = set()\n",
    "    dfs(g, g, visited)"
   ]
  },
  {
   "cell_type": "code",
   "execution_count": 118,
   "metadata": {},
   "outputs": [
    {
     "name": "stdout",
     "output_type": "stream",
     "text": [
      "1964.0\n",
      "744.0\n",
      "1587.0\n",
      "58.0\n",
      "1743.0\n",
      "1735.0\n",
      "339.0\n",
      "2673.0\n"
     ]
    },
    {
     "ename": "IndexError",
     "evalue": "index 2673 is out of bounds for axis 0 with size 2472",
     "output_type": "error",
     "traceback": [
      "\u001b[1;31m---------------------------------------------------------------------------\u001b[0m",
      "\u001b[1;31mIndexError\u001b[0m                                Traceback (most recent call last)",
      "Cell \u001b[1;32mIn[118], line 8\u001b[0m\n\u001b[0;32m      6\u001b[0m         idx \u001b[38;5;241m=\u001b[39m \u001b[38;5;28mlist\u001b[39m(generator)\u001b[38;5;241m.\u001b[39mindex(\u001b[38;5;28mlist\u001b[39m(v)[\u001b[38;5;241m0\u001b[39m])\n\u001b[0;32m      7\u001b[0m         \u001b[38;5;28mprint\u001b[39m(k)\n\u001b[1;32m----> 8\u001b[0m         \u001b[43mbus_prop_mat\u001b[49m\u001b[43m[\u001b[49m\u001b[43midx\u001b[49m\u001b[43m]\u001b[49m\u001b[43m[\u001b[49m\u001b[38;5;28;43mint\u001b[39;49m\u001b[43m(\u001b[49m\u001b[43mk\u001b[49m\u001b[43m)\u001b[49m\u001b[43m]\u001b[49m \u001b[38;5;241m=\u001b[39m \u001b[38;5;241m1.0\u001b[39m\n\u001b[0;32m      9\u001b[0m \u001b[38;5;28;01mfor\u001b[39;00m k, v \u001b[38;5;129;01min\u001b[39;00m line_to_gen\u001b[38;5;241m.\u001b[39mitems():\n\u001b[0;32m     10\u001b[0m     \u001b[38;5;28;01mif\u001b[39;00m \u001b[38;5;28mlen\u001b[39m(v) \u001b[38;5;241m==\u001b[39m \u001b[38;5;241m1\u001b[39m:\n",
      "\u001b[1;31mIndexError\u001b[0m: index 2673 is out of bounds for axis 0 with size 2472"
     ]
    }
   ],
   "source": [
    "line_prop_mat=np.zeros((num_gen, num_lines), dtype=float)\n",
    "bus_prop_mat=np.zeros((num_gen, num_buses), dtype=float)\n",
    "# initially, if node_to_gen only has 1 generator, bus_prop_mat start with 1\n",
    "for k, v in node_to_gen.items():\n",
    "    if len(v) == 1:\n",
    "        idx = list(generator).index(list(v)[0])\n",
    "        bus_prop_mat[idx][int(k)] = 1.0\n",
    "for k, v in line_to_gen.items():\n",
    "    if len(v) == 1:\n",
    "        idx = list(generator).index(list(v)[0])\n",
    "        line_prop_mat[idx][int(k)] = 1.0"
   ]
  }
 ],
 "metadata": {
  "kernelspec": {
   "display_name": "Python 3",
   "language": "python",
   "name": "python3"
  },
  "language_info": {
   "codemirror_mode": {
    "name": "ipython",
    "version": 3
   },
   "file_extension": ".py",
   "mimetype": "text/x-python",
   "name": "python",
   "nbconvert_exporter": "python",
   "pygments_lexer": "ipython3",
   "version": "3.11.9"
  }
 },
 "nbformat": 4,
 "nbformat_minor": 2
}
