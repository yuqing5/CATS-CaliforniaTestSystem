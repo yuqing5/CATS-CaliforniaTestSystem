{
 "cells": [
  {
   "cell_type": "code",
   "execution_count": 23,
   "metadata": {},
   "outputs": [],
   "source": [
    "import scipy.io\n",
    "import numpy as np"
   ]
  },
  {
   "cell_type": "code",
   "execution_count": 12,
   "metadata": {},
   "outputs": [],
   "source": [
    "bus = scipy.io.loadmat('MATPOWER/bus.mat')['bus']\n",
    "branch = scipy.io.loadmat('MATPOWER/branch.mat')['brach']\n",
    "gen = scipy.io.loadmat('MATPOWER/gen.mat')['gen']\n",
    "gencost = scipy.io.loadmat('MATPOWER/gencost.mat')['gencost']"
   ]
  },
  {
   "cell_type": "code",
   "execution_count": 15,
   "metadata": {},
   "outputs": [],
   "source": [
    "power_demand = bus[:,2]"
   ]
  },
  {
   "cell_type": "code",
   "execution_count": 17,
   "metadata": {},
   "outputs": [],
   "source": [
    "num_buses = len(power_demand)"
   ]
  },
  {
   "cell_type": "code",
   "execution_count": 19,
   "metadata": {},
   "outputs": [],
   "source": [
    "line_to_nodes = branch[:, [0, 1]]\n",
    "num_lines = len(line_to_nodes) # I get 10823, the paper says there are 10162 lines and 661 transformers"
   ]
  },
  {
   "cell_type": "code",
   "execution_count": 46,
   "metadata": {},
   "outputs": [],
   "source": [
    "_, idx = np.unique(gen[:,0], return_index=True) # generator and bus are mismatch by 1 index. ie. gen 745 = bus[744]\n",
    "power_generation = gen[np.sort(idx)][:, 1]\n",
    "generator = gen[np.sort(idx)][:, 0]\n",
    "#map(int, generator)\n",
    "gen_cost = np.sum(gencost[np.sort(idx)][:, [1,2,3,4,5,6]], axis=1) # simply sum up the cost"
   ]
  },
  {
   "cell_type": "code",
   "execution_count": 48,
   "metadata": {},
   "outputs": [
    {
     "data": {
      "text/plain": [
       "array([  64.43755986, 1475.41120105,   52.60432623, ...,    3.        ,\n",
       "          3.        ,    3.        ])"
      ]
     },
     "execution_count": 48,
     "metadata": {},
     "output_type": "execute_result"
    }
   ],
   "source": [
    "gen_cost"
   ]
  }
 ],
 "metadata": {
  "kernelspec": {
   "display_name": "Python 3",
   "language": "python",
   "name": "python3"
  },
  "language_info": {
   "codemirror_mode": {
    "name": "ipython",
    "version": 3
   },
   "file_extension": ".py",
   "mimetype": "text/x-python",
   "name": "python",
   "nbconvert_exporter": "python",
   "pygments_lexer": "ipython3",
   "version": "3.11.6"
  }
 },
 "nbformat": 4,
 "nbformat_minor": 2
}
