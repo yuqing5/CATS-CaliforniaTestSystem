{
 "cells": [
  {
   "cell_type": "code",
   "execution_count": 1,
   "metadata": {},
   "outputs": [],
   "source": [
    "import pandas as pd\n",
    "import scipy.io\n",
    "import numpy as np\n",
    "from pyvis.network import Network\n",
    "import matplotlib.pyplot as plt\n",
    "import collections\n",
    "import json\n",
    "import matlab.engine\n",
    "from sklearn.linear_model import LinearRegression\n",
    "import os\n",
    "import sys\n",
    "#os.environ['TMP'] = r'C:/Program Files/MATLAB/R2024b/bin/matlab.exe'\n",
    "#os.environ['TEMP'] = r'C:/Program Files/MATLAB/R2024b/bin/matlab.exe'\n",
    "#sys.path.append(\"matlab24bPy311\\Lib\\site-packages\")"
   ]
  },
  {
   "cell_type": "code",
   "execution_count": null,
   "metadata": {},
   "outputs": [],
   "source": [
    "'''\n",
    "Load the generator and bus data. Remove renewable generators from the generator dataset. All these datasets come fron CATS paper.\n",
    "'''\n",
    "bus = scipy.io.loadmat('MATPOWER/bus.mat')['bus']\n",
    "power_demand = bus[:, 2]\n",
    "df = pd.read_csv(\"GIS/CATS_gens.csv\").to_numpy()\n",
    "#df = df[df['Pmax'] != 0.0].to_numpy()\n",
    "old_num_gen = len(df)\n",
    "#df = df.drop_duplicates(subset=['PlantCode','GenID']).to_numpy()\n",
    "indices = []\n",
    "idx = []\n",
    "impt_idx = []\n",
    "renew_type = [\"Solar Photovoltaic\", \"Solar Thermal without Energy Storage\", \"Onshore Wind Turbine\", \"Hydroelectric Pumped Storage\", \"Conventional Hydroelectric\"]\n",
    "for i, r in enumerate(df):\n",
    "    if r[3] in renew_type:\n",
    "        indices.append(i+1)\n",
    "        idx.append(i)\n",
    "    if r[3] == \"IMPORT\":\n",
    "        impt_idx.append(i+1)\n",
    "bus_loc = pd.read_csv(\"GIS/CATS_buses.csv\").to_numpy()[:, [4,5]]\n",
    "gen_loc = df[:, -2:]\n",
    "df[idx, 5] = 0\n",
    "#df_renew = pd.read_csv(\"GIS/CATS_gens.csv\").loc[lambda x: idx, :]\n",
    "eng = matlab.engine.start_matlab()\n",
    "#real_gen = pd.read_csv('data/CAISO-demand-20191101.csv').iloc[[2]].to_numpy().reshape((290, ))[1:]\n",
    "g = eng.removeSolar(indices)\n",
    "g = eng.removeSolar(impt_idx)\n",
    "m = eng.loadcase('CaliforniaTestSystem.m')\n",
    "num_bus = np.array(m['bus']).shape[0]\n",
    "num_branch = np.array(m['branch']).shape[0]\n",
    "num_gen = np.array(m['gen']).shape[0]\n",
    "gen_bus_temp = np.array(m['gen'])[:,0]\n",
    "eng.quit()"
   ]
  },
  {
   "cell_type": "code",
   "execution_count": 3,
   "metadata": {},
   "outputs": [],
   "source": [
    "for i, v in enumerate(gen_bus_temp):\n",
    "    if df[i,2] != v:\n",
    "        print(i)\n",
    "        break"
   ]
  },
  {
   "cell_type": "code",
   "execution_count": 4,
   "metadata": {},
   "outputs": [
    {
     "data": {
      "text/plain": [
       "defaultdict(float,\n",
       "            {'Conventional Hydroelectric': 0.0,\n",
       "             'Petroleum Liquids': 369.09999999999997,\n",
       "             'Natural Gas Fired Combustion Turbine': 10893.39999999999,\n",
       "             'Natural Gas Internal Combustion Engine': 325.5999999999998,\n",
       "             'Natural Gas Fired Combined Cycle': 19649.300000000007,\n",
       "             'Natural Gas Steam Turbine': 4744.799999999999,\n",
       "             'Landfill Gas': 278.6,\n",
       "             'Batteries': 229.50000000000003,\n",
       "             'Hydroelectric Pumped Storage': 0.0,\n",
       "             'Geothermal': 1095.2,\n",
       "             'Nuclear': 2323.0,\n",
       "             'Onshore Wind Turbine': 0.0,\n",
       "             'Other Waste Biomass': 168.5999999999999,\n",
       "             'Wood/Wood Waste Biomass': 504.8,\n",
       "             'Solar Photovoltaic': 0.0,\n",
       "             'Solar Thermal without Energy Storage': 0.0,\n",
       "             'All Other': 113.69999999999999,\n",
       "             'Conventional Steam Coal': 55.0,\n",
       "             'Other Gases': 258.1,\n",
       "             'Petroleum Coke': 27.3,\n",
       "             'Municipal Solid Waste': 24.0,\n",
       "             'Other Natural Gas': 131.70000000000002,\n",
       "             'IMPORT': 23400.0,\n",
       "             'Synchronous Condenser': 0.0})"
      ]
     },
     "execution_count": 4,
     "metadata": {},
     "output_type": "execute_result"
    }
   ],
   "source": [
    "'''\n",
    "Check the total power generation by fuel type.\n",
    "'''\n",
    "gen_by_fuel = collections.defaultdict(float)\n",
    "for row in df:\n",
    "    gen_by_fuel[row[3]] += row[5]\n",
    "gen_by_fuel"
   ]
  },
  {
   "cell_type": "code",
   "execution_count": 5,
   "metadata": {},
   "outputs": [
    {
     "data": {
      "text/plain": [
       "([<matplotlib.patches.Wedge at 0x1760257e550>,\n",
       "  <matplotlib.patches.Wedge at 0x1760257ff90>,\n",
       "  <matplotlib.patches.Wedge at 0x1760258d610>,\n",
       "  <matplotlib.patches.Wedge at 0x1760258ce50>,\n",
       "  <matplotlib.patches.Wedge at 0x17602598410>,\n",
       "  <matplotlib.patches.Wedge at 0x17602599e10>,\n",
       "  <matplotlib.patches.Wedge at 0x1760259b390>,\n",
       "  <matplotlib.patches.Wedge at 0x176025a8b90>,\n",
       "  <matplotlib.patches.Wedge at 0x176025aa250>,\n",
       "  <matplotlib.patches.Wedge at 0x17602599c10>,\n",
       "  <matplotlib.patches.Wedge at 0x176025b4f50>],\n",
       " [Text(-0.183659912126977, 1.084559374436232, 'Natural Gas'),\n",
       "  Text(-1.038670975777293, -0.36216378073717737, 'Solar'),\n",
       "  Text(-0.9912161238433614, -0.4769597423608643, 'Nuclear'),\n",
       "  Text(-0.9295511066190857, -0.5881621716697133, 'Coal'),\n",
       "  Text(-0.9279744050661253, -0.5906466824948491, 'Hydro'),\n",
       "  Text(-0.9074097490549368, -0.6217777314443296, 'Biomass'),\n",
       "  Text(-0.8617721630072604, -0.6836290946601, 'Other'),\n",
       "  Text(-0.7974164783174263, -0.7577116602691514, 'Geothermal'),\n",
       "  Text(-0.755942699658503, -0.7990936333327995, 'Wind'),\n",
       "  Text(0.40848893227257577, -1.0213406837147, 'Import'),\n",
       "  Text(1.099625255452701, -0.028710582902164074, 'Biogas')],\n",
       " [Text(-0.100178133887442, 0.5915778406015811, '55.3%'),\n",
       "  Text(-0.5665478049694325, -0.19754388040209672, '0.0%'),\n",
       "  Text(-0.5406633402781971, -0.2601598594695623, '3.6%'),\n",
       "  Text(-0.507027876337683, -0.3208157300016618, '0.1%'),\n",
       "  Text(-0.5061678573087955, -0.3221709177244631, '0.0%'),\n",
       "  Text(-0.49495077221178363, -0.3391514898787252, '1.1%'),\n",
       "  Text(-0.4700575434585056, -0.37288859708732724, '1.1%'),\n",
       "  Text(-0.4349544427185961, -0.41329726923771887, '1.7%'),\n",
       "  Text(-0.4123323816319107, -0.4358692545451633, '0.0%'),\n",
       "  Text(0.22281214487595039, -0.5570949183898364, '36.2%'),\n",
       "  Text(0.5997955938832914, -0.015660317946634948, '0.8%')])"
      ]
     },
     "execution_count": 5,
     "metadata": {},
     "output_type": "execute_result"
    },
    {
     "data": {
      "image/png": "[encoded data removed]",
      "text/plain": [
       "<Figure size 640x480 with 1 Axes>"
      ]
     },
     "metadata": {},
     "output_type": "display_data"
    }
   ],
   "source": [
    "'''\n",
    "Map the fuel types in our CATS dataset to the ones in paper to check.\n",
    "'''\n",
    "y = [0]*11\n",
    "for k, v in gen_by_fuel.items():\n",
    "    if 'Natural Gas' in k:\n",
    "        y[0] += v\n",
    "    elif 'Solar' in k:\n",
    "        y[1] += v\n",
    "    elif 'Nuclear' in k:\n",
    "        y[2] += v\n",
    "    elif 'Coal' in k:\n",
    "        y[3] += v\n",
    "    elif 'Hydro' in k:\n",
    "        y[4] += v\n",
    "    elif 'Biomass' in k or 'Waste' in k:\n",
    "        y[5] += v\n",
    "    elif 'Geothermal' in k:\n",
    "        y[7] += v\n",
    "    elif 'Wind' in k:\n",
    "        y[8] += v\n",
    "    elif 'IMPORT' in k:\n",
    "        y[9] += v\n",
    "    elif 'Landfill' in k or 'Other Gases' in k:\n",
    "        y[10] += v\n",
    "    else:\n",
    "        y[6] += v\n",
    "x = ['Natural Gas', 'Solar','Nuclear','Coal','Hydro','Biomass','Other','Geothermal','Wind','Import','Biogas']\n",
    "fig, ax = plt.subplots()\n",
    "ax.pie(y, labels=x,autopct='%1.1f%%')"
   ]
  },
  {
   "cell_type": "code",
   "execution_count": 6,
   "metadata": {},
   "outputs": [
    {
     "data": {
      "text/plain": [
       "Aggregated Fuel Group\n",
       "COAL    4.692794\n",
       "GAS     0.455939\n",
       "GEO     0.026307\n",
       "MSW     0.834946\n",
       "PET     0.878813\n",
       "dtype: float64"
      ]
     },
     "execution_count": 6,
     "metadata": {},
     "output_type": "execute_result"
    }
   ],
   "source": [
    "'''\n",
    "Get the emission data and calculate generator emission rate by each generator fuel type. (tonnes of CO2/MWH). Source: EIA\n",
    "'''\n",
    "# https://www.eia.gov/electricity/data/emissions/\n",
    "gen_emission = pd.read_excel(\"data/emissions2019.xlsx\")\n",
    "gen_emission = gen_emission[gen_emission['Generation (kWh)'] > 0]\n",
    "gen_emission = gen_emission[gen_emission['State'] == 'CA']\n",
    "gen_emission = gen_emission[['Plant Code','Fuel Code','Aggregated Fuel Group','Generation (kWh)','Metric Tonnes of CO2 Emissions','carbon emission rate']]\n",
    "d1 = gen_emission.groupby(['Aggregated Fuel Group'])['Generation (kWh)'].sum()\n",
    "d2 = gen_emission.groupby(['Aggregated Fuel Group'])['Metric Tonnes of CO2 Emissions'].sum()\n",
    "d2*1000/d1\n",
    "# get carbon emssion rate of each fuel type (tons/mWh)"
   ]
  },
  {
   "cell_type": "code",
   "execution_count": 8,
   "metadata": {},
   "outputs": [
    {
     "data": {
      "text/plain": [
       "Fuel Code\n",
       "BIT    4.642909\n",
       "DFO    1.191675\n",
       "GEO    0.026307\n",
       "JF     1.180994\n",
       "MSW    0.834394\n",
       "NG     0.585267\n",
       "PG     1.083609\n",
       "RC     4.693628\n",
       "WO     0.534195\n",
       "Name: carbon emission rate, dtype: float64"
      ]
     },
     "execution_count": 8,
     "metadata": {},
     "output_type": "execute_result"
    }
   ],
   "source": [
    "gen_emission.groupby(['Fuel Code'])['carbon emission rate'].median()"
   ]
  },
  {
   "cell_type": "code",
   "execution_count": 7,
   "metadata": {},
   "outputs": [
    {
     "data": {
      "text/plain": [
       "'\\nfor k, v in type_to_emission.items():\\n    type_to_emission[k] *= 2.7\\n'"
      ]
     },
     "execution_count": 7,
     "metadata": {},
     "output_type": "execute_result"
    }
   ],
   "source": [
    "'''\n",
    "Dictionary to store fuel type to emission rate.\n",
    "'''\n",
    "type_to_emission = collections.defaultdict(float)\n",
    "#type_to_emission['Conventional Hydroelectric'] = 0\n",
    "#type_to_emission['Hydroelectric Pumped Storage'] = 0\n",
    "type_to_emission['Petroleum Liquids'] = 1.114133\n",
    "type_to_emission['Natural Gas Internal Combustion Engine'] = 0.455939\n",
    "type_to_emission['Natural Gas Fired Combined Cycle'] = 0.455939\n",
    "type_to_emission['Natural Gas Steam Turbine'] = 0.455939\n",
    "type_to_emission['Natural Gas Fired Combustion Turbine'] = 0.455939\n",
    "type_to_emission['Nuclear'] = 0\n",
    "type_to_emission['Geothermal'] = 0.058489\n",
    "#type_to_emission['Onshore Wind Turbine'] = 0\n",
    "type_to_emission['Other Waste Biomass'] = 0.029702\n",
    "type_to_emission['Wood/Wood Waste Biomass'] = 0.029702\n",
    "type_to_emission['Landfill Gas'] = 0.776560\n",
    "#type_to_emission['Solar Photovoltaic'] = 0\n",
    "#type_to_emission['Solar Thermal without Energy Storage'] = 0\n",
    "type_to_emission['Conventional Steam Coal'] = 0.531497\n",
    "type_to_emission['Other Gases'] = 0.776560\n",
    "type_to_emission['Batteries'] = 0\n",
    "type_to_emission['Petroleum Coke'] = 1.114133\n",
    "type_to_emission['Municipal Solid Waste'] = 0.029702\n",
    "type_to_emission['Other Natural Gas'] = 0.455939\n",
    "type_to_emission['All Other'] = 0.104261\n",
    "type_to_emission['IMPORT'] = 0.302718\n",
    "#type_to_emission['Synchronous Condenser'] = 884\n",
    "'''\n",
    "for k, v in type_to_emission.items():\n",
    "    type_to_emission[k] *= 2.7\n",
    "'''"
   ]
  },
  {
   "cell_type": "code",
   "execution_count": 9,
   "metadata": {},
   "outputs": [
    {
     "data": {
      "text/plain": [
       "Plant primary coal/oil/gas/ other fossil fuel category\n",
       "BIOMASS       0.031964\n",
       "COAL          0.574314\n",
       "GAS           0.392918\n",
       "GEOTHERMAL    0.064474\n",
       "HYDRO         0.000000\n",
       "NUCLEAR       0.000000\n",
       "OFSL          0.420986\n",
       "OIL           1.114133\n",
       "OTHF          0.302718\n",
       "SOLAR         0.000501\n",
       "WIND          0.000000\n",
       "Name: plant_emission_rate, dtype: float64"
      ]
     },
     "execution_count": 9,
     "metadata": {},
     "output_type": "execute_result"
    }
   ],
   "source": [
    "'''\n",
    "Generator emission data from EPA. \n",
    "'''\n",
    "# https://www.epa.gov/egrid\n",
    "emission_power_plant = pd.read_excel(\"data/emission_egrid.xlsx\")\n",
    "emission_power_plant = emission_power_plant[emission_power_plant['Plant annual net generation'] > 0]\n",
    "emission_power_plant = emission_power_plant[emission_power_plant['Plant state abbreviation'] == 'CA']\n",
    "emission_power_plant[\"plant_emission_rate\"] = emission_power_plant[\"Plant annual CO2 emissions\"]/emission_power_plant[\"Plant annual net generation\"]\n",
    "emission_power_plant.groupby(['Plant primary coal/oil/gas/ other fossil fuel category'])['plant_emission_rate'].mean()"
   ]
  },
  {
   "cell_type": "code",
   "execution_count": 10,
   "metadata": {},
   "outputs": [
    {
     "data": {
      "text/html": [
       "<div>\n",
       "<style scoped>\n",
       "    .dataframe tbody tr th:only-of-type {\n",
       "        vertical-align: middle;\n",
       "    }\n",
       "\n",
       "    .dataframe tbody tr th {\n",
       "        vertical-align: top;\n",
       "    }\n",
       "\n",
       "    .dataframe thead th {\n",
       "        text-align: right;\n",
       "    }\n",
       "</style>\n",
       "<table border=\"1\" class=\"dataframe\">\n",
       "  <thead>\n",
       "    <tr style=\"text-align: right;\">\n",
       "      <th></th>\n",
       "      <th>Plant state abbreviation</th>\n",
       "      <th>DOE/EIA ORIS plant or facility code</th>\n",
       "      <th>Utility ID</th>\n",
       "      <th>Plant FIPS county code</th>\n",
       "      <th>Plant latitude</th>\n",
       "      <th>Plant longitude</th>\n",
       "      <th>Plant primary fuel</th>\n",
       "      <th>Plant primary coal/oil/gas/ other fossil fuel category</th>\n",
       "      <th>Plant annual net generation (MWh)</th>\n",
       "      <th>Plant annual CO2 equivalent emissions (tons)</th>\n",
       "      <th>Plant annual CO2 equivalent total output emission rate (lb/MWh)</th>\n",
       "      <th>Plant coal generation percent (resource mix)</th>\n",
       "      <th>Plant oil generation percent (resource mix)</th>\n",
       "      <th>Plant gas generation percent (resource mix)</th>\n",
       "      <th>Plant nuclear generation percent (resource mix)</th>\n",
       "      <th>Plant hydro generation percent (resource mix)</th>\n",
       "      <th>Plant biomass generation percent (resource mix)</th>\n",
       "      <th>Plant wind generation percent (resource mix)</th>\n",
       "      <th>Plant solar generation percent (resource mix)</th>\n",
       "      <th>Plant geothermal generation percent (resource mix)</th>\n",
       "      <th>Plant other fossil generation percent (resource mix)</th>\n",
       "      <th>Plant other unknown / purchased fuel generation percent (resource mix)</th>\n",
       "      <th>Plant annual CO2 equivalent total output emission rate (metric tons/MWh)</th>\n",
       "    </tr>\n",
       "  </thead>\n",
       "  <tbody>\n",
       "    <tr>\n",
       "      <th>474</th>\n",
       "      <td>CA</td>\n",
       "      <td>57310</td>\n",
       "      <td>57320</td>\n",
       "      <td>37.0</td>\n",
       "      <td>33.794283</td>\n",
       "      <td>-118.241405</td>\n",
       "      <td>SUN</td>\n",
       "      <td>SOLAR</td>\n",
       "      <td>1781.0</td>\n",
       "      <td>0.0</td>\n",
       "      <td>0.0</td>\n",
       "      <td>0.0</td>\n",
       "      <td>0.0</td>\n",
       "      <td>0.0</td>\n",
       "      <td>0.0</td>\n",
       "      <td>0.0</td>\n",
       "      <td>0.0</td>\n",
       "      <td>0.0</td>\n",
       "      <td>1.0</td>\n",
       "      <td>0.0</td>\n",
       "      <td>0.0</td>\n",
       "      <td>0.0</td>\n",
       "      <td>0.0</td>\n",
       "    </tr>\n",
       "    <tr>\n",
       "      <th>475</th>\n",
       "      <td>CA</td>\n",
       "      <td>58918</td>\n",
       "      <td>61315</td>\n",
       "      <td>19.0</td>\n",
       "      <td>36.670000</td>\n",
       "      <td>-119.415833</td>\n",
       "      <td>SUN</td>\n",
       "      <td>SOLAR</td>\n",
       "      <td>1535.0</td>\n",
       "      <td>0.0</td>\n",
       "      <td>0.0</td>\n",
       "      <td>0.0</td>\n",
       "      <td>0.0</td>\n",
       "      <td>0.0</td>\n",
       "      <td>0.0</td>\n",
       "      <td>0.0</td>\n",
       "      <td>0.0</td>\n",
       "      <td>0.0</td>\n",
       "      <td>1.0</td>\n",
       "      <td>0.0</td>\n",
       "      <td>0.0</td>\n",
       "      <td>0.0</td>\n",
       "      <td>0.0</td>\n",
       "    </tr>\n",
       "    <tr>\n",
       "      <th>476</th>\n",
       "      <td>CA</td>\n",
       "      <td>58920</td>\n",
       "      <td>61315</td>\n",
       "      <td>47.0</td>\n",
       "      <td>37.352222</td>\n",
       "      <td>-120.506944</td>\n",
       "      <td>SUN</td>\n",
       "      <td>SOLAR</td>\n",
       "      <td>2656.0</td>\n",
       "      <td>0.0</td>\n",
       "      <td>0.0</td>\n",
       "      <td>0.0</td>\n",
       "      <td>0.0</td>\n",
       "      <td>0.0</td>\n",
       "      <td>0.0</td>\n",
       "      <td>0.0</td>\n",
       "      <td>0.0</td>\n",
       "      <td>0.0</td>\n",
       "      <td>1.0</td>\n",
       "      <td>0.0</td>\n",
       "      <td>0.0</td>\n",
       "      <td>0.0</td>\n",
       "      <td>0.0</td>\n",
       "    </tr>\n",
       "    <tr>\n",
       "      <th>477</th>\n",
       "      <td>CA</td>\n",
       "      <td>58919</td>\n",
       "      <td>61315</td>\n",
       "      <td>7.0</td>\n",
       "      <td>39.291667</td>\n",
       "      <td>-121.669722</td>\n",
       "      <td>SUN</td>\n",
       "      <td>SOLAR</td>\n",
       "      <td>2410.0</td>\n",
       "      <td>0.0</td>\n",
       "      <td>0.0</td>\n",
       "      <td>0.0</td>\n",
       "      <td>0.0</td>\n",
       "      <td>0.0</td>\n",
       "      <td>0.0</td>\n",
       "      <td>0.0</td>\n",
       "      <td>0.0</td>\n",
       "      <td>0.0</td>\n",
       "      <td>1.0</td>\n",
       "      <td>0.0</td>\n",
       "      <td>0.0</td>\n",
       "      <td>0.0</td>\n",
       "      <td>0.0</td>\n",
       "    </tr>\n",
       "    <tr>\n",
       "      <th>478</th>\n",
       "      <td>CA</td>\n",
       "      <td>57871</td>\n",
       "      <td>11208</td>\n",
       "      <td>37.0</td>\n",
       "      <td>34.026944</td>\n",
       "      <td>-118.224167</td>\n",
       "      <td>SUN</td>\n",
       "      <td>SOLAR</td>\n",
       "      <td>1252.0</td>\n",
       "      <td>0.0</td>\n",
       "      <td>0.0</td>\n",
       "      <td>0.0</td>\n",
       "      <td>0.0</td>\n",
       "      <td>0.0</td>\n",
       "      <td>0.0</td>\n",
       "      <td>0.0</td>\n",
       "      <td>0.0</td>\n",
       "      <td>0.0</td>\n",
       "      <td>1.0</td>\n",
       "      <td>0.0</td>\n",
       "      <td>0.0</td>\n",
       "      <td>0.0</td>\n",
       "      <td>0.0</td>\n",
       "    </tr>\n",
       "  </tbody>\n",
       "</table>\n",
       "</div>"
      ],
      "text/plain": [
       "    Plant state abbreviation  DOE/EIA ORIS plant or facility code  Utility ID  \\\n",
       "474                       CA                                57310       57320   \n",
       "475                       CA                                58918       61315   \n",
       "476                       CA                                58920       61315   \n",
       "477                       CA                                58919       61315   \n",
       "478                       CA                                57871       11208   \n",
       "\n",
       "     Plant FIPS county code  Plant latitude  Plant longitude  \\\n",
       "474                    37.0       33.794283      -118.241405   \n",
       "475                    19.0       36.670000      -119.415833   \n",
       "476                    47.0       37.352222      -120.506944   \n",
       "477                     7.0       39.291667      -121.669722   \n",
       "478                    37.0       34.026944      -118.224167   \n",
       "\n",
       "    Plant primary fuel Plant primary coal/oil/gas/ other fossil fuel category  \\\n",
       "474                SUN                                              SOLAR       \n",
       "475                SUN                                              SOLAR       \n",
       "476                SUN                                              SOLAR       \n",
       "477                SUN                                              SOLAR       \n",
       "478                SUN                                              SOLAR       \n",
       "\n",
       "     Plant annual net generation (MWh)  \\\n",
       "474                             1781.0   \n",
       "475                             1535.0   \n",
       "476                             2656.0   \n",
       "477                             2410.0   \n",
       "478                             1252.0   \n",
       "\n",
       "     Plant annual CO2 equivalent emissions (tons)  \\\n",
       "474                                           0.0   \n",
       "475                                           0.0   \n",
       "476                                           0.0   \n",
       "477                                           0.0   \n",
       "478                                           0.0   \n",
       "\n",
       "     Plant annual CO2 equivalent total output emission rate (lb/MWh)  \\\n",
       "474                                                0.0                 \n",
       "475                                                0.0                 \n",
       "476                                                0.0                 \n",
       "477                                                0.0                 \n",
       "478                                                0.0                 \n",
       "\n",
       "     Plant coal generation percent (resource mix)  \\\n",
       "474                                           0.0   \n",
       "475                                           0.0   \n",
       "476                                           0.0   \n",
       "477                                           0.0   \n",
       "478                                           0.0   \n",
       "\n",
       "     Plant oil generation percent (resource mix)  \\\n",
       "474                                          0.0   \n",
       "475                                          0.0   \n",
       "476                                          0.0   \n",
       "477                                          0.0   \n",
       "478                                          0.0   \n",
       "\n",
       "     Plant gas generation percent (resource mix)  \\\n",
       "474                                          0.0   \n",
       "475                                          0.0   \n",
       "476                                          0.0   \n",
       "477                                          0.0   \n",
       "478                                          0.0   \n",
       "\n",
       "     Plant nuclear generation percent (resource mix)  \\\n",
       "474                                              0.0   \n",
       "475                                              0.0   \n",
       "476                                              0.0   \n",
       "477                                              0.0   \n",
       "478                                              0.0   \n",
       "\n",
       "     Plant hydro generation percent (resource mix)  \\\n",
       "474                                            0.0   \n",
       "475                                            0.0   \n",
       "476                                            0.0   \n",
       "477                                            0.0   \n",
       "478                                            0.0   \n",
       "\n",
       "     Plant biomass generation percent (resource mix)  \\\n",
       "474                                              0.0   \n",
       "475                                              0.0   \n",
       "476                                              0.0   \n",
       "477                                              0.0   \n",
       "478                                              0.0   \n",
       "\n",
       "     Plant wind generation percent (resource mix)  \\\n",
       "474                                           0.0   \n",
       "475                                           0.0   \n",
       "476                                           0.0   \n",
       "477                                           0.0   \n",
       "478                                           0.0   \n",
       "\n",
       "     Plant solar generation percent (resource mix)  \\\n",
       "474                                            1.0   \n",
       "475                                            1.0   \n",
       "476                                            1.0   \n",
       "477                                            1.0   \n",
       "478                                            1.0   \n",
       "\n",
       "     Plant geothermal generation percent (resource mix)  \\\n",
       "474                                                0.0    \n",
       "475                                                0.0    \n",
       "476                                                0.0    \n",
       "477                                                0.0    \n",
       "478                                                0.0    \n",
       "\n",
       "     Plant other fossil generation percent (resource mix)  \\\n",
       "474                                                0.0      \n",
       "475                                                0.0      \n",
       "476                                                0.0      \n",
       "477                                                0.0      \n",
       "478                                                0.0      \n",
       "\n",
       "     Plant other unknown / purchased fuel generation percent (resource mix)  \\\n",
       "474                                                0.0                        \n",
       "475                                                0.0                        \n",
       "476                                                0.0                        \n",
       "477                                                0.0                        \n",
       "478                                                0.0                        \n",
       "\n",
       "     Plant annual CO2 equivalent total output emission rate (metric tons/MWh)  \n",
       "474                                                0.0                         \n",
       "475                                                0.0                         \n",
       "476                                                0.0                         \n",
       "477                                                0.0                         \n",
       "478                                                0.0                         "
      ]
     },
     "execution_count": 10,
     "metadata": {},
     "output_type": "execute_result"
    }
   ],
   "source": [
    "# egrid_2019\n",
    "# https://www.epa.gov/egrid\n",
    "# we have percent mixure of power generation by fuel types. We have carbon emission rate of each generator. We can get the carbon emission rate of the each fuel type.\n",
    "emission_power_plant = pd.read_excel(\"data/Book1.xlsx\")\n",
    "pd.set_option('display.max_columns', None)\n",
    "emission_power_plant = emission_power_plant[emission_power_plant['Plant annual net generation (MWh)'] > 0]\n",
    "emission_power_plant = emission_power_plant[emission_power_plant['Plant state abbreviation'] == 'CA']\n",
    "emission_power_plant['Plant annual CO2 equivalent total output emission rate (metric tons/MWh)'] = emission_power_plant['Plant annual CO2 equivalent total output emission rate (lb/MWh)']/2204.62\n",
    "emission_power_plant.head(5)"
   ]
  },
  {
   "cell_type": "code",
   "execution_count": 11,
   "metadata": {},
   "outputs": [
    {
     "name": "stderr",
     "output_type": "stream",
     "text": [
      "C:\\Users\\syq41\\AppData\\Local\\Temp\\ipykernel_72876\\2484647333.py:4: FutureWarning: `rcond` parameter will change to the default of machine precision times ``max(M, N)`` where M and N are the input matrix dimensions.\n",
      "To use the future default and silence this warning we advise to pass `rcond=None`, to keep using the old, explicitly pass `rcond=-1`.\n",
      "  x, resi, r, s = np.linalg.lstsq(A.astype('float'), b.astype('float')) # x is carbon emission of each fuel type\n"
     ]
    }
   ],
   "source": [
    "# Use least square. Percent fuel type of each gen * carbon emission of each fuel type = carbon emission of each gen\n",
    "A = emission_power_plant.to_numpy()[:, 11:-1]\n",
    "b = emission_power_plant.to_numpy()[:, -1]\n",
    "x, resi, r, s = np.linalg.lstsq(A.astype('float'), b.astype('float')) # x is carbon emission of each fuel type\n",
    "dict_carb = collections.defaultdict(float)\n",
    "dict_carb[\"Coal\"] = x[0]\n",
    "dict_carb[\"Oil\"] = x[1]\n",
    "dict_carb[\"Gas\"] = x[2]\n",
    "dict_carb[\"Nuclear\"] = x[3]\n",
    "dict_carb[\"Hydro\"] = x[4]\n",
    "dict_carb[\"Biomass\"] = x[5]\n",
    "dict_carb[\"Wind\"] = x[6]\n",
    "dict_carb[\"Solar\"] = x[7]\n",
    "dict_carb[\"Geothermal\"] = x[8]\n",
    "dict_carb[\"Other fossil\"] = x[9]\n",
    "dict_carb[\"Other/Import\"] = x[10]"
   ]
  },
  {
   "cell_type": "code",
   "execution_count": 13,
   "metadata": {},
   "outputs": [
    {
     "data": {
      "text/plain": [
       "defaultdict(float,\n",
       "            {'Coal': 0.5314975802795218,\n",
       "             'Oil': 1.3178187916140407,\n",
       "             'Gas': 0.3582052877233133,\n",
       "             'Nuclear': -1.6653345369377348e-16,\n",
       "             'Hydro': 1.1102230246251565e-16,\n",
       "             'Biomass': 0.029702157130995444,\n",
       "             'Wind': -1.0646562304018656e-16,\n",
       "             'Solar': 0.00040708553821966476,\n",
       "             'Geothermal': 0.0584896013043455,\n",
       "             'Other fossil': 0.6539273187952723,\n",
       "             'Other/Import': 0.10426143309083978})"
      ]
     },
     "execution_count": 13,
     "metadata": {},
     "output_type": "execute_result"
    }
   ],
   "source": [
    "'''Use Least Square to estimate generator emission rate by fuel type. Source: EPA'''\n",
    "dict_carb"
   ]
  },
  {
   "cell_type": "code",
   "execution_count": 12,
   "metadata": {},
   "outputs": [],
   "source": [
    "'''\n",
    "Load branch data. Create dictionarys that map branch to bus.\n",
    "'''\n",
    "branch_ = scipy.io.loadmat('MATPOWER/branch.mat')['brach']\n",
    "branch_from_bus = list(map(int, branch_[:, 0]-1))\n",
    "branch_to_bus = list(map(int, branch_[:, 1]-1))\n",
    "line_to_nodes = [list(map(int,i)) for i in branch_[:, 0:2]-1]"
   ]
  },
  {
   "cell_type": "code",
   "execution_count": 13,
   "metadata": {},
   "outputs": [
    {
     "name": "stdout",
     "output_type": "stream",
     "text": [
      "\n",
      "******************************************************************************\n",
      "This program contains Ipopt, a library for large-scale nonlinear optimization.\n",
      " Ipopt is released as open source code under the Eclipse Public License (EPL).\n",
      "         For more information visit https://github.com/coin-or/Ipopt\n",
      "******************************************************************************\n",
      "\n"
     ]
    },
    {
     "name": "stderr",
     "output_type": "stream",
     "text": [
      "The latest version of Julia in the `release` channel is 1.11.1+0.x64.w64.mingw32. You currently have `1.10.0+0.x64.w64.mingw32` installed. Run:\n",
      "\n",
      "  juliaup update\n",
      "\n",
      "in your terminal shell to install Julia 1.11.1+0.x64.w64.mingw32 and update the `release` channel to that version.\n"
     ]
    }
   ],
   "source": [
    "'''\n",
    "Run OPF to store the result in .json. Get power generation by each generator, power flow on each branch, and carbon emission at each generator.\n",
    "'''\n",
    "!julia run_opf.jl\n",
    "f = open(\"pf_solution.json\")\n",
    "gen_by_fuel = collections.defaultdict(float)\n",
    "sol = json.load(f)\n",
    "gen = [-1]*num_gen\n",
    "gen_cost = [0]*num_gen\n",
    "power_generation = [0]*num_gen\n",
    "carbon_emission = [0]*num_gen\n",
    "branch_power_to = [0]*num_branch\n",
    "branch_power_from = [0]*num_branch\n",
    "res = []\n",
    "for line, val in sol['solution']['gen'].items():\n",
    "    if val['pg'] != 0.0:\n",
    "        gen[int(line)-1] = df[int(line)-1][2]-1\n",
    "        carbon_emission[int(line)-1] = type_to_emission[df[int(line)-1][3]]\n",
    "        gen_by_fuel[df[int(line)-1][3]] += val['pg']*100\n",
    "        gen_cost[int(line)-1] = val['pg_cost']\n",
    "        power_generation[int(line)-1] = val['pg']*100\n",
    "\n",
    "for line, val in sol['solution']['branch'].items():\n",
    "    branch_power_from[int(line)-1] = val['pf']*100\n",
    "    branch_power_to[int(line)-1] = val['pt']*100\n",
    "\n",
    "f.close()"
   ]
  },
  {
   "cell_type": "code",
   "execution_count": 14,
   "metadata": {},
   "outputs": [],
   "source": [
    "'''\n",
    "Construct a graph based on branch topology data from CATS and save it in the adjacency list {from_node: [(to_node1, branch1), (to_node2, branch2)]} format.\n",
    "'''\n",
    "graph = collections.defaultdict(list) # from: (to, line)\n",
    "graph_reverse = collections.defaultdict(list) # to: (from, line)\n",
    "for i, (from_bus, to_bus) in enumerate(line_to_nodes):\n",
    "    graph[from_bus].append((to_bus, i))\n",
    "    graph_reverse[to_bus].append((from_bus, i))\n",
    "for i, f in enumerate(branch_power_from):\n",
    "    if f < 0.0:\n",
    "        from_node, to_node = line_to_nodes[i]\n",
    "        graph[from_node].remove((to_node, i))\n",
    "        graph[to_node].append((from_node, i))\n",
    "        graph_reverse[to_node].remove((from_node, i))\n",
    "        graph_reverse[from_node].append((to_node, i))\n",
    "        branch_power_from[i] = -f"
   ]
  },
  {
   "cell_type": "code",
   "execution_count": 15,
   "metadata": {},
   "outputs": [],
   "source": [
    "# Kahn's algo\n",
    "'''\n",
    "Kahn's algo to process nodes in topological order.\n",
    "'''\n",
    "def topo_order_kahn(graph):\n",
    "    in_degree = [0]*num_bus\n",
    "    for i in range(num_bus):\n",
    "        for nei, _ in graph[i]:\n",
    "            in_degree[nei] += 1\n",
    "    q = []\n",
    "    for i in range(num_bus):\n",
    "        if in_degree[i] == 0:\n",
    "            q.append(i)\n",
    "    index = 0\n",
    "    order = [0]*num_bus\n",
    "    while q:\n",
    "        at = q.pop(0)\n",
    "        order[index] = at\n",
    "        index += 1\n",
    "        for nei, _ in graph[at]:\n",
    "            in_degree[nei] -= 1\n",
    "            if in_degree[nei] == 0:\n",
    "                q.append(nei)\n",
    "    return in_degree"
   ]
  },
  {
   "cell_type": "code",
   "execution_count": 16,
   "metadata": {},
   "outputs": [
    {
     "data": {
      "text/plain": [
       "785"
      ]
     },
     "execution_count": 16,
     "metadata": {},
     "output_type": "execute_result"
    }
   ],
   "source": [
    "# find number of components in graph\n",
    "visited = set()\n",
    "num_components = 0\n",
    "def find_components(graph, n, visited):\n",
    "    if n in visited: return\n",
    "    visited.add(n)\n",
    "    for nei, _ in graph[n]:\n",
    "        find_components(graph, nei, visited)\n",
    "for n in range(num_bus):\n",
    "    if n not in visited:\n",
    "        find_components(graph, n, visited)\n",
    "        num_components += 1\n",
    "num_components\n",
    "# we get num_compoents = 770"
   ]
  },
  {
   "cell_type": "code",
   "execution_count": 17,
   "metadata": {},
   "outputs": [],
   "source": [
    "'''\n",
    "After finding the SCC and store it in c, turn the cycle to a super node and turn graph into DAG.\n",
    "'''\n",
    "def update_graph_DAG(graph, c):\n",
    "    for b in c:\n",
    "        for nei, line in graph[b]:\n",
    "            if nei in c:\n",
    "                branch_power_from[line] = 0\n",
    "                graph[b].remove((nei, line))\n",
    "        for nei, line in graph_reverse[b]:\n",
    "            if nei in c:\n",
    "                branch_power_from[line] = 0\n",
    "                if (b, line) in graph[nei]:\n",
    "                    graph[nei].remove((b, line))\n",
    "        if b != c[0]:\n",
    "            for nei, line in graph[b]:\n",
    "                if nei not in c:\n",
    "                    graph[c[0]].append((nei, line))\n",
    "                    graph[b].remove((nei, line))\n",
    "            for nei, line in graph_reverse[b]:\n",
    "                if nei not in c:\n",
    "                    graph[nei].append((c[0], line))\n",
    "                    if (b, line) in graph[nei]:\n",
    "                        graph[nei].remove((b, line))\n",
    "            graph[b] = []\n",
    "    return graph"
   ]
  },
  {
   "cell_type": "code",
   "execution_count": 18,
   "metadata": {},
   "outputs": [],
   "source": [
    "# Tarjan's Strongly Connected Component (SCC) Algorithm\n",
    "'''\n",
    "Find the SCC.\n",
    "'''\n",
    "UNVISITED = -1\n",
    "id = [0]\n",
    "sccCount = [0]\n",
    "ids = [0]*num_bus\n",
    "low = [0]*num_bus\n",
    "onStack = [False]*num_bus\n",
    "stack = []\n",
    "def findSccs():\n",
    "    for i in range(num_bus): ids[i] = UNVISITED\n",
    "    for i in range(num_bus):\n",
    "        if ids[i] == UNVISITED:\n",
    "            tarjan_dfs(i)\n",
    "    return low\n",
    "def tarjan_dfs(at):\n",
    "    stack.append(at)\n",
    "    onStack[at] = True\n",
    "    ids[at] = id[0]\n",
    "    low[at] = id[0]\n",
    "    id[0] += 1\n",
    "    for nei, _ in graph[at]:\n",
    "        if ids[nei] == UNVISITED:\n",
    "            tarjan_dfs(nei)\n",
    "        if onStack[nei]:\n",
    "            low[at] = min(low[nei], low[at])\n",
    "    if ids[at] == low[at]:\n",
    "        while stack:\n",
    "            node = stack.pop(-1)\n",
    "            onStack[node] = False\n",
    "            low[node] = ids[at]\n",
    "            if node == at: break\n",
    "        sccCount[0] += 1"
   ]
  },
  {
   "cell_type": "code",
   "execution_count": 19,
   "metadata": {},
   "outputs": [],
   "source": [
    "sccs = collections.defaultdict(list)\n",
    "seen = []\n",
    "edges = findSccs()\n",
    "for i, v in enumerate(edges):\n",
    "    if v in seen:\n",
    "        sccs[v].append(i)\n",
    "        sccs[v].append(seen.index(v))\n",
    "    seen.append(v)\n",
    "cycles = set()\n",
    "for k, v in sccs.items():\n",
    "    cycles.add(frozenset(v))"
   ]
  },
  {
   "cell_type": "code",
   "execution_count": null,
   "metadata": {},
   "outputs": [
    {
     "name": "stdout",
     "output_type": "stream",
     "text": [
      "[4707, 4712, 2622, 2622]\n",
      "mygraph.html\n"
     ]
    }
   ],
   "source": [
    "net = Network(directed=True)\n",
    "nodes = [4707]\n",
    "addi_nodes = []\n",
    "for n in nodes:\n",
    "    for nei, _ in graph[n]:\n",
    "        if nei not in nodes:\n",
    "            addi_nodes.append(nei)\n",
    "    for nei, _ in graph_reverse[n]:\n",
    "        if nei not in nodes:\n",
    "            addi_nodes.append(nei)\n",
    "nodes = nodes + addi_nodes\n",
    "print(nodes)\n",
    "location = []\n",
    "title = []\n",
    "value = []\n",
    "for n in nodes:\n",
    "    location.append(list(bus_loc[n]))\n",
    "    title.append(\"Node \" + str(n) + \" (\" + str(power_demand[n]) + \")\")\n",
    "    value.append(power_demand[n])\n",
    "location = np.array(location)\n",
    "net.add_nodes(nodes, value=value,label = title, x = location[:,0], y = location[:,1])\n",
    "for n in nodes:\n",
    "    for nei, line in graph[n]:\n",
    "        if nei in nodes:\n",
    "            net.add_edge(n, nei, weight=branch_power_from[line], label=str(round(branch_power_from[line],2)))\n",
    "net.toggle_physics(True)\n",
    "net.show('mygraph.html', notebook=False)"
   ]
  },
  {
   "cell_type": "code",
   "execution_count": 17,
   "metadata": {},
   "outputs": [
    {
     "name": "stdout",
     "output_type": "stream",
     "text": [
      "[]\n"
     ]
    },
    {
     "ename": "IndexError",
     "evalue": "too many indices for array: array is 1-dimensional, but 2 were indexed",
     "output_type": "error",
     "traceback": [
      "\u001b[1;31m---------------------------------------------------------------------------\u001b[0m",
      "\u001b[1;31mIndexError\u001b[0m                                Traceback (most recent call last)",
      "Cell \u001b[1;32mIn[17], line 27\u001b[0m\n\u001b[0;32m     25\u001b[0m     value\u001b[38;5;241m.\u001b[39mappend(power_demand[n])\n\u001b[0;32m     26\u001b[0m location \u001b[38;5;241m=\u001b[39m np\u001b[38;5;241m.\u001b[39marray(location)\n\u001b[1;32m---> 27\u001b[0m net\u001b[38;5;241m.\u001b[39madd_nodes(nodes, value\u001b[38;5;241m=\u001b[39mvalue,label \u001b[38;5;241m=\u001b[39m title, x \u001b[38;5;241m=\u001b[39m \u001b[43mlocation\u001b[49m\u001b[43m[\u001b[49m\u001b[43m:\u001b[49m\u001b[43m,\u001b[49m\u001b[38;5;241;43m0\u001b[39;49m\u001b[43m]\u001b[49m, y \u001b[38;5;241m=\u001b[39m location[:,\u001b[38;5;241m1\u001b[39m])\n\u001b[0;32m     28\u001b[0m \u001b[38;5;28;01mfor\u001b[39;00m n \u001b[38;5;129;01min\u001b[39;00m nodes:\n\u001b[0;32m     29\u001b[0m     \u001b[38;5;28;01mfor\u001b[39;00m nei, line \u001b[38;5;129;01min\u001b[39;00m graph[n]:\n",
      "\u001b[1;31mIndexError\u001b[0m: too many indices for array: array is 1-dimensional, but 2 were indexed"
     ]
    }
   ],
   "source": [
    "'''\n",
    "Visualize the SCC.\n",
    "'''\n",
    "net = Network(directed=True)\n",
    "nodes = []\n",
    "for c in cycles:\n",
    "    for b in c:\n",
    "        nodes.append(b)\n",
    "addi_nodes = []\n",
    "for n in nodes:\n",
    "    for nei, _ in graph[n]:\n",
    "        if nei not in nodes:\n",
    "            addi_nodes.append(nei)\n",
    "    for nei, _ in graph_reverse[n]:\n",
    "        if nei not in nodes:\n",
    "            addi_nodes.append(nei)\n",
    "nodes = nodes + addi_nodes\n",
    "print(nodes)\n",
    "location = []\n",
    "title = []\n",
    "value = []\n",
    "for n in nodes:\n",
    "    location.append(list(bus_loc[n]))\n",
    "    title.append(\"Node \" + str(n))\n",
    "    value.append(power_demand[n])\n",
    "location = np.array(location)\n",
    "net.add_nodes(nodes, value=value,label = title, x = location[:,0], y = location[:,1])\n",
    "for n in nodes:\n",
    "    for nei, line in graph[n]:\n",
    "        if nei in nodes:\n",
    "            net.add_edge(n, nei, weight=branch_power_from[line], label=str(round(branch_power_from[line],2)))\n",
    "net.toggle_physics(True)\n",
    "net.show('mygraph.html', notebook=False)"
   ]
  },
  {
   "cell_type": "code",
   "execution_count": 20,
   "metadata": {},
   "outputs": [],
   "source": [
    "'''\n",
    "Turn all SCCs to supernode in graph and reverse graph.\n",
    "'''\n",
    "for c in cycles:\n",
    "    c = list(c)\n",
    "    print(c)\n",
    "    total_demand = 0\n",
    "    total_gen = 0\n",
    "    for b in c:\n",
    "        total_demand += power_demand[b]\n",
    "        idx = gen.index(b) if b in gen else -1\n",
    "        if idx != -1:\n",
    "            total_gen += power_generation[idx]\n",
    "    power_demand[c[0]] = total_demand\n",
    "    idx = gen.index(b) if b in gen else -1\n",
    "    if idx != -1:\n",
    "        power_generation[gen.index(c[0])] = total_gen\n",
    "    graph = update_graph_DAG(graph, c)\n",
    "graph_reverse = collections.defaultdict(list)\n",
    "for f, v in graph.items():\n",
    "    for t, line in v:\n",
    "        graph_reverse[t].append((f, line))"
   ]
  },
  {
   "cell_type": "code",
   "execution_count": 22,
   "metadata": {},
   "outputs": [],
   "source": [
    "# check we can process all nodes with kahn algo\n",
    "in_d = topo_order_kahn(graph)\n",
    "for i, v in enumerate(in_d):\n",
    "    if v > 0:\n",
    "        print(i)\n",
    "# Since the power generation can be negative, we can convert them to power demand instead\n",
    "for i, v in enumerate(power_generation):\n",
    "    if v < 0.0:\n",
    "        power_demand[gen[i]] -= v\n",
    "        power_generation[i] = 0.0"
   ]
  },
  {
   "cell_type": "code",
   "execution_count": 23,
   "metadata": {},
   "outputs": [],
   "source": [
    "'''\n",
    "Match the fuel type in our data to CAISO fuel type.\n",
    "'''\n",
    "fuel_type_to_caiso = collections.defaultdict(str)\n",
    "for k, v in gen_by_fuel.items():\n",
    "    if 'Natural Gas' in k:\n",
    "        fuel_type_to_caiso[k] = 1 #'Natural Gas'\n",
    "    elif 'Other Gases' in k or 'Landfill' in k:\n",
    "        fuel_type_to_caiso[k] = 2 #'Biogas'\n",
    "    elif 'Coal' in k:\n",
    "        fuel_type_to_caiso[k] = 5 #'Coal'\n",
    "    elif 'Biomass' in k or 'Waste' in k:\n",
    "        fuel_type_to_caiso[k] = 3 #'Biomass'\n",
    "    elif 'Geothermal' in k:\n",
    "        fuel_type_to_caiso[k] = 4 #'Geothermal'\n",
    "    elif 'Batteries' in k:\n",
    "        fuel_type_to_caiso[k] = 6\n",
    "    elif 'uclear' in k:\n",
    "        fuel_type_to_caiso[k] = 7\n",
    "    elif 'Solar' in k or 'Wind' in k or 'Hydro' in k:\n",
    "        fuel_type_to_caiso[k] = 8\n",
    "    else:\n",
    "        fuel_type_to_caiso[k] = 0 #Imports"
   ]
  },
  {
   "cell_type": "code",
   "execution_count": null,
   "metadata": {},
   "outputs": [],
   "source": [
    "'''\n",
    "Get the CAISO load total power demand data at different timestamps. real_gen only includes non-renewable while total_dem includes all.\n",
    "'''\n",
    "some_gen = pd.read_csv('data/201906/CAISO-netdemand-20190617.csv').iloc[[7]].to_numpy().reshape((290, ))[1:-1]\n",
    "real_gen = []\n",
    "for i in range(0,288):\n",
    "    if i%12 == 0:\n",
    "        real_gen.append(some_gen[i])\n",
    "some_gen = pd.read_csv('data/201906/CAISO-netdemand-20190617.csv').iloc[[1]].to_numpy().reshape((290, ))[1:-1]\n",
    "total_dem = []\n",
    "for i in range(0,288):\n",
    "    if i%12 == 0:\n",
    "        total_dem.append(some_gen[i])"
   ]
  },
  {
   "cell_type": "code",
   "execution_count": 23,
   "metadata": {},
   "outputs": [
    {
     "data": {
      "image/png": "[encoded data removed]",
      "text/plain": [
       "<Figure size 640x480 with 1 Axes>"
      ]
     },
     "metadata": {},
     "output_type": "display_data"
    }
   ],
   "source": [
    "'''\n",
    "Visualize total power demand.\n",
    "'''\n",
    "load_data = pd.read_csv('data/201906/CAISO-netdemand-20190617.csv').loc[[1,5]].to_numpy()\n",
    "y1 = load_data[0][1:]\n",
    "y2 = load_data[1][1:]\n",
    "plt.plot(y1)\n",
    "plt.plot(y2)\n",
    "plt.title('Load data on 06/17/2019')\n",
    "plt.xlabel('Time')\n",
    "plt.ylabel('MWh')\n",
    "plt.xticks(np.arange(0,300,12.5),labels=[str(x) for x in range(0,24)])\n",
    "plt.legend(['total demand','net demand'])\n",
    "plt.grid()\n",
    "plt.show()"
   ]
  },
  {
   "cell_type": "code",
   "execution_count": null,
   "metadata": {},
   "outputs": [
    {
     "name": "stderr",
     "output_type": "stream",
     "text": [
      "The latest version of Julia in the `release` channel is 1.11.1+0.x64.w64.mingw32. You currently have `1.10.0+0.x64.w64.mingw32` installed. Run:\n",
      "\n",
      "  juliaup update\n",
      "\n",
      "in your terminal shell to install Julia 1.11.1+0.x64.w64.mingw32 and update the `release` channel to that version.\n"
     ]
    },
    {
     "name": "stdout",
     "output_type": "stream",
     "text": [
      "\n",
      "******************************************************************************\n",
      "This program contains Ipopt, a library for large-scale nonlinear optimization.\n",
      " Ipopt is released as open source code under the Eclipse Public License (EPL).\n",
      "         For more information visit https://github.com/coin-or/Ipopt\n",
      "******************************************************************************\n",
      "\n",
      "power demand: 14422.999999133779\n",
      "power gen: 14423.00072770102\n",
      "real gen: 14423\n",
      "Initial indegree: 0\n",
      "Total num of buses visited: 1672\n"
     ]
    }
   ],
   "source": [
    "res = []\n",
    "emi_by_type = []\n",
    "pg_time_by_type = []\n",
    "eng = matlab.engine.start_matlab()\n",
    "h = 0\n",
    "counties = pd.read_csv(\"Result/carbon_intensity_0617_27.csv\").to_numpy()[:,3]\n",
    "for i in range(len(real_gen)):\n",
    "    #qd = np.concatenate((qd, np.zeros((1743,))))\n",
    "    r = eng.myFunc(real_gen[i])\n",
    "    m = eng.loadcase('CaliforniaTestSystem.m')\n",
    "    #power_d = np.array(m['bus'])[:,2]\n",
    "    #np.array(m['bus'])[:,2] = power_demand\n",
    "    #np.array(m['gen'])[:,1] = power_generation\n",
    "    #eng.savecase('CaliforniaTestSystem.m', m)\n",
    "    !julia run_opf.jl\n",
    "    f = open(\"pf_solution.json\")\n",
    "    sol = json.load(f)\n",
    "    # gen to bus\n",
    "    gen = [-1]*num_gen\n",
    "    gen_cost = [0]*num_gen\n",
    "    power_generation = [0]*num_gen\n",
    "    carbon_emission = [0]*num_gen\n",
    "    power_generation_by_type = [0]*9\n",
    "    emission_by_type = [0]*9\n",
    "    for line, val in sol['solution']['gen'].items():\n",
    "        if val['pg'] > 0.0:\n",
    "            gen[int(line)-1] = df[int(line)-1][2]-1\n",
    "            power_generation_by_type[fuel_type_to_caiso[df[int(line)-1][3]]] += val['pg']*100\n",
    "            carbon_emission[int(line)-1] = type_to_emission[df[int(line)-1][3]]\n",
    "            gen_by_fuel[df[int(line)-1][3]] += val['pg']*100\n",
    "            gen_cost[int(line)-1] = val['pg_cost']\n",
    "            power_generation[int(line)-1] = val['pg']*100\n",
    "            emission_by_type[fuel_type_to_caiso[df[int(line)-1][3]]] += val['pg']*100*type_to_emission[df[int(line)-1][3]]\n",
    "\n",
    "    for line, val in sol['solution']['branch'].items():\n",
    "        branch_power_from[int(line)-1] = round(val['pf']*100, 4)\n",
    "        branch_power_to[int(line)-1] = round(val['pt']*100, 4)\n",
    "        \n",
    "    pg_time_by_type.append(power_generation_by_type)\n",
    "    emi_by_type.append(emission_by_type)\n",
    "    f.close()\n",
    "    r = eng.myFuncNoModi(total_dem[i])\n",
    "    m2 = eng.loadcase('CaliforniaTestSystem2.m')\n",
    "    l_ori = np.array(m2['bus'])[:,2]\n",
    "    power_demand = np.array(m['bus'])[:,2]\n",
    "    print(\"power demand: \" + str(sum(power_demand)))\n",
    "    print(\"power gen: \" + str(sum(power_generation)))\n",
    "    print(\"real gen: \" + str(real_gen[i]))\n",
    "    '''graph = collections.defaultdict(list) # from: (to, line)\n",
    "    graph_reverse = collections.defaultdict(list) # to: (from, line)\n",
    "    for i, (from_bus, to_bus) in enumerate(line_to_nodes):\n",
    "        graph[from_bus].append((to_bus, i))\n",
    "        graph_reverse[to_bus].append((from_bus, i))'''\n",
    "    for i, f in enumerate(branch_power_from):\n",
    "        if f < 0.0:\n",
    "            from_node, to_node = line_to_nodes[i]\n",
    "            graph[from_node].remove((to_node, i))\n",
    "            graph[to_node].append((from_node, i))\n",
    "            graph_reverse[to_node].remove((from_node, i))\n",
    "            graph_reverse[from_node].append((to_node, i))\n",
    "            branch_power_from[i] = -f\n",
    "    UNVISITED = -1\n",
    "    id = [0]\n",
    "    sccCount = [0]\n",
    "    ids = [0]*num_bus\n",
    "    low = [0]*num_bus\n",
    "    onStack = [False]*num_bus\n",
    "    stack = []\n",
    "    def findSccs():\n",
    "        for i in range(num_bus): ids[i] = UNVISITED\n",
    "        for i in range(num_bus):\n",
    "            if ids[i] == UNVISITED:\n",
    "                tarjan_dfs(i)\n",
    "        return low\n",
    "    #print(pg_time_by_type)\n",
    "    sccs = collections.defaultdict(list)\n",
    "    seen = []\n",
    "    edges = findSccs()\n",
    "    for i, v in enumerate(edges):\n",
    "        if v in seen:\n",
    "            sccs[v].append(i)\n",
    "            sccs[v].append(seen.index(v))\n",
    "        seen.append(v)\n",
    "    cycles = set()\n",
    "    for k, v in sccs.items():\n",
    "        cycles.add(frozenset(v))\n",
    "    for c in cycles:\n",
    "        c = list(c)\n",
    "        total_demand = 0\n",
    "        total_gen = 0\n",
    "        for b in c:\n",
    "            total_demand += power_demand[b]\n",
    "            idx = gen.index(b) if b in gen else -1\n",
    "            if idx != -1:\n",
    "                total_gen += power_generation[idx]\n",
    "        power_demand[c[0]] = total_demand\n",
    "        idx = gen.index(b) if b in gen else -1\n",
    "        if idx != -1:\n",
    "            power_generation[gen.index(c[0])] = total_gen\n",
    "        graph = update_graph_DAG(graph, c)\n",
    "    graph_reverse = collections.defaultdict(list)\n",
    "    for f, v in graph.items():\n",
    "        for t, line in v:\n",
    "            graph_reverse[t].append((f, line))\n",
    "    # check we can process all nodes with kahn algo\n",
    "    in_d = topo_order_kahn(graph)\n",
    "    for i, v in enumerate(in_d):\n",
    "        if v > 0:\n",
    "            print(\"Following buses unprocessed: \" + str(i))\n",
    "    # Since the power generation can be negative, we can convert them to power demand instead\n",
    "    for i, v in enumerate(power_generation):\n",
    "        if v < 0.0:\n",
    "            power_demand[gen[i]] -= v\n",
    "            power_generation[i] = 0.0\n",
    "    line_to_gen = collections.defaultdict(set)\n",
    "    node_to_gen = collections.defaultdict(set)\n",
    "    def dfs(g, n, visited):\n",
    "        if n in visited: return\n",
    "        visited.add(n)\n",
    "        node_to_gen[n].add(g)\n",
    "        for nei, line in graph[n]:\n",
    "            line_to_gen[line].add(g)\n",
    "            dfs(g, nei, visited)\n",
    "    for i, g in enumerate(gen):\n",
    "        visited = set()\n",
    "        dfs(g, g, visited)\n",
    "    line_prop_mat=np.zeros((num_gen, num_branch), dtype=float)\n",
    "    bus_prop_mat=np.zeros((num_gen, num_bus), dtype=float)\n",
    "    # initially, if node_to_gen only has 1 generator, bus_prop_mat start with 1\n",
    "    '''for k, v in node_to_gen.items():\n",
    "        if len(v) == 1:\n",
    "            idx = list(gen).index(list(v)[0])\n",
    "            # cannot directly set to 1.0 since the only the first node connected to gen should be set to zero. use gen[gen] = bus\n",
    "            #bus_prop_mat[idx][int(k)] = 1.0\n",
    "    for k, v in line_to_gen.items():\n",
    "        if len(v) == 1:\n",
    "            idx = list(gen).index(list(v)[0])\n",
    "            # same for line\n",
    "            #line_prop_mat[idx][int(k)] = 1.0\n",
    "    for i, v in enumerate(gen):\n",
    "        if v != -1 and power_demand[v] > 0.0:\n",
    "            bus_prop_mat[i][v] = power_generation[i]/power_demand[v]'''\n",
    "    #(sum(bus_prop_mat[:, 1398]))\n",
    "    # visit nodes in topological order\n",
    "    # step 1: calculate bus_prop based on in flowing lines_prop\n",
    "    # step 2: calculate line_prop of out flowing lines\n",
    "    in_degree = collections.defaultdict(int)\n",
    "    for i, v in graph_reverse.items():\n",
    "        in_degree[i] = len(v)\n",
    "    q = set() # list of nodes with no inflow\n",
    "    topo_order = []\n",
    "    for g in gen:\n",
    "        if g != -1 and in_degree[g] == 0:\n",
    "            q.add(g)\n",
    "    q = list(q)\n",
    "    visited = set()\n",
    "    print(\"Initial indegree: \" + str(in_degree[2404]))\n",
    "    while q:\n",
    "        cur = int(q.pop(0))\n",
    "        visited.add(cur)\n",
    "        #if len(node_to_gen[cur]) > 1:\n",
    "        out_total = power_demand[cur]\n",
    "        for nei, out_line in graph[cur]:\n",
    "            out_total += branch_power_from[out_line]\n",
    "        \n",
    "        for g in node_to_gen[cur]:\n",
    "            idx = list(gen).index(g)\n",
    "            if cur == g:\n",
    "                if out_total > 0.0: \n",
    "                    bus_prop_mat[idx][cur] = power_generation[idx]/out_total\n",
    "            else:\n",
    "                for nei, in_line in graph_reverse[cur]:\n",
    "                    if out_total > 0.0:\n",
    "                        bus_prop_mat[idx][cur] += branch_power_from[in_line]*line_prop_mat[idx][in_line]/out_total\n",
    "        for g in node_to_gen[cur]:\n",
    "            idx = list(gen).index(g)\n",
    "            for nei, out_line in graph[cur]:\n",
    "                line_prop_mat[idx][out_line] = bus_prop_mat[idx][cur]\n",
    "        topo_order.append(cur)\n",
    "        for nei, line in graph[cur]:\n",
    "            in_degree[nei] -= 1\n",
    "            if in_degree[nei] == 0 and nei not in visited:\n",
    "                q.append(nei)\n",
    "    avg_carbon_emission_rate_node = carbon_emission @ bus_prop_mat\n",
    "    carbon_vec = np.zeros((num_bus, 1), dtype=float)\n",
    "    bus_prop_mat_2 = np.zeros((num_gen, num_bus), dtype=float)\n",
    "    for i in range(num_gen):\n",
    "        s = np.sum(bus_prop_mat[i])\n",
    "        for j in range(num_bus):\n",
    "            if s != 0.0:\n",
    "                bus_prop_mat_2[i][j] = bus_prop_mat[i][j]/s\n",
    "    \n",
    "    l_ren = np.reshape(l_ori, (1, num_bus)) - np.matmul(np.reshape(power_generation, (1, num_gen)), bus_prop_mat_2)\n",
    "    l_ren = np.reshape(l_ren, (num_bus, 1))\n",
    "    print(\"Total num of buses visited: \" + str(len(visited)))\n",
    "    break\n",
    "    '''for i, v in enumerate(l_ren):\n",
    "        if v < 0:\n",
    "            l_ren[i] = 0'''\n",
    "    #for i in range(num_bus):\n",
    "        #for j in range(num_gen):\n",
    "            #carbon_vec[i] += bus_prop_mat_2[j,i] * power_generation[j] * carbon_emission[j]\n",
    "    total_carbon = sum(carbon_vec)\n",
    "    res.append(total_carbon)\n",
    "    ce = pd.read_csv(\"GIS/CATS_buses.csv\")\n",
    "    #ce.insert(2, 'carb_inten_only_renew', v)\n",
    "    #ce.insert(3, 'pd', power_demand)\n",
    "    #ce.insert(2, 'county', counties)\n",
    "    #ce['carb_emit'] = ce['carb_inten_only_renew']*ce['pd']\n",
    "    #tte = ce.groupby(['county'])['carb_emit'].agg('sum')\n",
    "    #ttpd = ce.groupby(['county'])['pd'].agg('sum')\n",
    "    #(tte/ttpd).to_frame().to_csv('Result/201906_county/carbon_intensity_0617_27_county_onlyrenew' + str(h) + '.csv')\n",
    "    l_ori = np.reshape(l_ori, (num_bus, 1))\n",
    "    carb_inten = np.divide(carbon_vec, l_ori, out=np.zeros_like(carbon_vec), where=l_ori!=0)\n",
    "    #ce.insert(2, 'carb_inten', carb_inten)\n",
    "    #ce.insert(2, 'renew_load', np.reshape(l_ren, (8870,)))\n",
    "    #ce.to_csv('Result/201906/0617_all_' + str(h) + '.csv')\n",
    "    avg_carbon_emission_rate_renew_time = []\n",
    "    b = l_ori - l_ren\n",
    "    a = np.multiply(np.reshape(avg_carbon_emission_rate_node, (num_bus, 1)), b)\n",
    "    avg_carbon_emission_rate_renew = np.divide(a, l_ori, out=np.zeros_like(a), where=l_ori>0.0001)\n",
    "    avg_carbon_emission_rate_renew_time.append(avg_carbon_emission_rate_renew)\n",
    "    \n",
    "    ce.insert(2, 'carb_inten_inc_all', avg_carbon_emission_rate_renew)\n",
    "    ce.insert(1, 'carb_inten_no_renew', avg_carbon_emission_rate_node)\n",
    "    ce.insert(1, 'l_ren', np.reshape(l_ren, (8870,)))\n",
    "    ce.insert(3, 'pd', power_demand)\n",
    "    ce.insert(2, 'county', counties)\n",
    "    ce.insert(2, 'c_vec', carbon_vec)\n",
    "    \n",
    "    ce.to_csv('Result/201906/0617_all_' + str(h) + '.csv')\n",
    "    ce['carb_emit'] = ce['carb_inten_no_renew']*ce['pd']\n",
    "    tte = ce.groupby(['county'])['carb_emit'].agg('sum')\n",
    "    llr = ce.groupby(['county'])['l_ren'].agg('sum')\n",
    "    ttpd = ce.groupby(['county'])['pd'].agg('sum')\n",
    "    #ce.groupby(['county'])['l_ren'].agg('sum').to_frame().to_csv('Result/201906_county/l_ren_0617_' + str(h) + '.csv')\n",
    "    (tte/ttpd).to_frame().to_csv('Result/201906_county/carbon_intensity_0617_27_county_all_' + str(h) + '.csv')\n",
    "    #ppd.to_frame().to_csv('Result/201906_county/pd_0617_27_county_all_' + str(h) + '.csv')\n",
    "    #llr.to_frame().to_csv('Result/201906_county/l_ren_0617_27_county_all_' + str(h) + '.csv')\n",
    "    h += 1\n",
    "    break\n",
    "eng.quit()"
   ]
  },
  {
   "cell_type": "code",
   "execution_count": 232,
   "metadata": {},
   "outputs": [],
   "source": [
    "for i, v in in_degree.items():\n",
    "    if v == 0 and i not in visited:\n",
    "        print(i)"
   ]
  },
  {
   "cell_type": "code",
   "execution_count": 233,
   "metadata": {},
   "outputs": [
    {
     "data": {
      "text/plain": [
       "1.0001143021095154"
      ]
     },
     "execution_count": 233,
     "metadata": {},
     "output_type": "execute_result"
    }
   ],
   "source": [
    "max(np.sum(bus_prop_mat, axis=0))"
   ]
  },
  {
   "cell_type": "code",
   "execution_count": 221,
   "metadata": {},
   "outputs": [
    {
     "data": {
      "text/plain": [
       "0.0"
      ]
     },
     "execution_count": 221,
     "metadata": {},
     "output_type": "execute_result"
    }
   ],
   "source": [
    "power_demand[8839]"
   ]
  },
  {
   "cell_type": "code",
   "execution_count": 222,
   "metadata": {},
   "outputs": [
    {
     "data": {
      "text/plain": [
       "[]"
      ]
     },
     "execution_count": 222,
     "metadata": {},
     "output_type": "execute_result"
    }
   ],
   "source": [
    "graph[8839]"
   ]
  },
  {
   "cell_type": "code",
   "execution_count": 209,
   "metadata": {},
   "outputs": [
    {
     "name": "stdout",
     "output_type": "stream",
     "text": [
      "1660\n"
     ]
    }
   ],
   "source": [
    "for i, v in in_degree.items():\n",
    "    if v == 0 and i not in visited:\n",
    "        print(i)"
   ]
  },
  {
   "cell_type": "code",
   "execution_count": 206,
   "metadata": {},
   "outputs": [
    {
     "data": {
      "text/plain": [
       "0"
      ]
     },
     "execution_count": 206,
     "metadata": {},
     "output_type": "execute_result"
    }
   ],
   "source": [
    "in_degree[4714]"
   ]
  },
  {
   "cell_type": "code",
   "execution_count": 205,
   "metadata": {},
   "outputs": [
    {
     "data": {
      "text/plain": [
       "2134"
      ]
     },
     "execution_count": 205,
     "metadata": {},
     "output_type": "execute_result"
    }
   ],
   "source": [
    "for i,v in in_degree.items()"
   ]
  },
  {
   "cell_type": "code",
   "execution_count": 192,
   "metadata": {},
   "outputs": [
    {
     "data": {
      "text/plain": [
       "set()"
      ]
     },
     "execution_count": 192,
     "metadata": {},
     "output_type": "execute_result"
    }
   ],
   "source": [
    "node_to_gen[1660]"
   ]
  },
  {
   "cell_type": "code",
   "execution_count": 153,
   "metadata": {},
   "outputs": [
    {
     "data": {
      "text/plain": [
       "39.47974338965996"
      ]
     },
     "execution_count": 153,
     "metadata": {},
     "output_type": "execute_result"
    }
   ],
   "source": [
    "bus_prop_mat[184, 1692]"
   ]
  },
  {
   "cell_type": "code",
   "execution_count": 159,
   "metadata": {},
   "outputs": [],
   "source": [
    "for i, v in enumerate(gen):\n",
    "    if v == 630:\n",
    "        print(i)"
   ]
  },
  {
   "cell_type": "code",
   "execution_count": 92,
   "metadata": {},
   "outputs": [
    {
     "data": {
      "text/plain": [
       "6773"
      ]
     },
     "execution_count": 92,
     "metadata": {},
     "output_type": "execute_result"
    }
   ],
   "source": [
    "gen[2139]"
   ]
  },
  {
   "cell_type": "code",
   "execution_count": 163,
   "metadata": {},
   "outputs": [
    {
     "data": {
      "text/plain": [
       "0.0"
      ]
     },
     "execution_count": 163,
     "metadata": {},
     "output_type": "execute_result"
    }
   ],
   "source": [
    "power_demand[630]"
   ]
  },
  {
   "cell_type": "code",
   "execution_count": 169,
   "metadata": {},
   "outputs": [
    {
     "data": {
      "text/plain": [
       "1.8838509592339112"
      ]
     },
     "execution_count": 169,
     "metadata": {},
     "output_type": "execute_result"
    }
   ],
   "source": [
    "branch_power_from[3712]*0.6243905495027176/branch_power_from[3714]"
   ]
  },
  {
   "cell_type": "code",
   "execution_count": 161,
   "metadata": {},
   "outputs": [
    {
     "data": {
      "text/plain": [
       "[(652, 3714)]"
      ]
     },
     "execution_count": 161,
     "metadata": {},
     "output_type": "execute_result"
    }
   ],
   "source": [
    "graph[630]"
   ]
  },
  {
   "cell_type": "code",
   "execution_count": 162,
   "metadata": {},
   "outputs": [
    {
     "data": {
      "text/plain": [
       "[(4183, 3712)]"
      ]
     },
     "execution_count": 162,
     "metadata": {},
     "output_type": "execute_result"
    }
   ],
   "source": [
    "graph_reverse[630]"
   ]
  },
  {
   "cell_type": "code",
   "execution_count": 108,
   "metadata": {},
   "outputs": [
    {
     "data": {
      "text/plain": [
       "0.0"
      ]
     },
     "execution_count": 108,
     "metadata": {},
     "output_type": "execute_result"
    }
   ],
   "source": [
    "branch_power_from[8395] + branch_power_from[8398] + branch_power_from[8399] - branch_power_from[428] - branch_power_from[450] - branch_power_from[10302]"
   ]
  },
  {
   "cell_type": "code",
   "execution_count": 111,
   "metadata": {},
   "outputs": [
    {
     "data": {
      "text/plain": [
       "1.0"
      ]
     },
     "execution_count": 111,
     "metadata": {},
     "output_type": "execute_result"
    }
   ],
   "source": [
    "line_prop_mat[2139][8399]"
   ]
  },
  {
   "cell_type": "code",
   "execution_count": 101,
   "metadata": {},
   "outputs": [
    {
     "data": {
      "text/plain": [
       "0.0"
      ]
     },
     "execution_count": 101,
     "metadata": {},
     "output_type": "execute_result"
    }
   ],
   "source": [
    "power_demand[7887]"
   ]
  },
  {
   "cell_type": "code",
   "execution_count": 107,
   "metadata": {},
   "outputs": [
    {
     "name": "stdout",
     "output_type": "stream",
     "text": [
      "2139\n"
     ]
    }
   ],
   "source": [
    "for i, v in enumerate(bus_prop_mat[:,7887]):\n",
    "    if v > 0.0:\n",
    "        print(i)"
   ]
  },
  {
   "cell_type": "code",
   "execution_count": 62,
   "metadata": {},
   "outputs": [],
   "source": [
    "renew = pd.read_csv('data/201906/CAISO-renewables-20190617.csv').iloc[[2]].to_numpy().reshape((289,))[1:]\n",
    "renew_gen = []\n",
    "for i in range(0,288):\n",
    "    if i%12 == 0:\n",
    "        renew_gen.append(renew[i])\n",
    "pg_time_by_type = np.array(pg_time_by_type).T\n",
    "pg_time_by_type_copy = pg_time_by_type.copy()"
   ]
  },
  {
   "cell_type": "code",
   "execution_count": 63,
   "metadata": {},
   "outputs": [],
   "source": [
    "asu = pd.read_csv(\"data/201906/CAISO-supply-20190617.csv\").to_numpy()[:,1:].T\n",
    "actual_supply = []\n",
    "for i in range(0,288):\n",
    "    if i%12 == 0:\n",
    "        actual_supply.append(list(asu[i,:]))\n",
    "actual_supply = np.array(actual_supply).T"
   ]
  },
  {
   "cell_type": "code",
   "execution_count": 64,
   "metadata": {},
   "outputs": [],
   "source": [
    "pg_time_by_type_copy[2] += pg_time_by_type_copy[3] + pg_time_by_type_copy[4] + renew_gen"
   ]
  },
  {
   "cell_type": "code",
   "execution_count": 65,
   "metadata": {},
   "outputs": [],
   "source": [
    "def get_MAPE(t, m):\n",
    "    res = 0\n",
    "    for i in range(len(t)):\n",
    "        res += abs((t[i] - m[i])/t[i])\n",
    "    res /= len(t)\n",
    "    return res"
   ]
  },
  {
   "cell_type": "code",
   "execution_count": 66,
   "metadata": {},
   "outputs": [],
   "source": [
    "def get_wMAPE(t, m):\n",
    "    a = 0\n",
    "    b = 0\n",
    "    for i in range(len(t)):\n",
    "        a += abs((t[i] - m[i]))\n",
    "        b += abs(t[i])\n",
    "    return a/b"
   ]
  },
  {
   "cell_type": "code",
   "execution_count": 67,
   "metadata": {},
   "outputs": [
    {
     "data": {
      "text/plain": [
       "0.4108163952688577"
      ]
     },
     "execution_count": 67,
     "metadata": {},
     "output_type": "execute_result"
    }
   ],
   "source": [
    "real_t_g = actual_supply[1] + actual_supply[4] + actual_supply[5] + actual_supply[6]\n",
    "t_g = pg_time_by_type_copy[1] + pg_time_by_type_copy[6] + pg_time_by_type_copy[7] + pg_time_by_type_copy[5]\n",
    "get_MAPE(real_t_g, t_g)"
   ]
  },
  {
   "cell_type": "code",
   "execution_count": 68,
   "metadata": {},
   "outputs": [
    {
     "data": {
      "text/plain": [
       "0.37319806682833184"
      ]
     },
     "execution_count": 68,
     "metadata": {},
     "output_type": "execute_result"
    }
   ],
   "source": [
    "get_wMAPE(real_t_g, t_g)"
   ]
  },
  {
   "cell_type": "code",
   "execution_count": 69,
   "metadata": {},
   "outputs": [
    {
     "data": {
      "image/png": "[encoded data removed]",
      "text/plain": [
       "<Figure size 1400x500 with 2 Axes>"
      ]
     },
     "metadata": {},
     "output_type": "display_data"
    }
   ],
   "source": [
    "fig, (ax1, ax2) = plt.subplots(1, 2, sharey=True, figsize=(14,5))\n",
    "x = [i for i in range(0, 24, 1)]\n",
    "ax1.plot(x, actual_supply[0], label='Renewable', color='green')\n",
    "ax1.plot(x, actual_supply[1], label='Natural Gas', color='orange')\n",
    "ax1.plot(x, actual_supply[2], label='Hydro', color='blue')\n",
    "ax1.plot(x, actual_supply[3], label='Imports', color='red')\n",
    "ax1.plot(x, actual_supply[4], label='Batteries', color='yellow')\n",
    "ax1.plot(x, actual_supply[5], label='Nuclear', color='grey')\n",
    "ax1.plot(x, actual_supply[6], label='Coal', color='black')\n",
    "fig.text(0.5, 0.04, 'Time', ha='center', va='center')\n",
    "fig.text(0.06, 0.5, 'MWh', ha='center', va='center', rotation='vertical')\n",
    "ax1.grid()\n",
    "ax1.set_xticks([i for i in range(0,24,1)])\n",
    "ax1.set_title(\"06/17/2019 Total power generation from CAISO data\")\n",
    "ax2.plot(x, pg_time_by_type_copy[2], label='Renewable', color='green')\n",
    "ax2.plot(x, pg_time_by_type_copy[1], label='Natural Gas', color='orange')\n",
    "ax2.plot(x, actual_supply[2], label='Hydro', color='blue')\n",
    "ax2.plot(x, pg_time_by_type_copy[0], label='Imports', color='red')\n",
    "ax2.plot(x, pg_time_by_type_copy[6], label='Batteries', color='yellow')\n",
    "ax2.plot(x, pg_time_by_type_copy[7], label='Nuclear', color='grey')\n",
    "ax2.plot(x, pg_time_by_type_copy[5], label='Coal', color='black')\n",
    "ax2.set_xticks([i for i in range(0,24,1)])\n",
    "ax2.set_title(\"06/17/2019 Total power generation from our model\")\n",
    "ax2.legend()\n",
    "ax2.grid()\n",
    "#fig.tight_layout()"
   ]
  },
  {
   "cell_type": "code",
   "execution_count": 61,
   "metadata": {},
   "outputs": [],
   "source": [
    "te = pd.read_csv(\"data/201906/CAISO-co2-per-resource-20190617.csv\").to_numpy()[:,1:].T\n",
    "target_emissions = []\n",
    "for i in range(0,288):\n",
    "    if i%12 == 0:\n",
    "        target_emissions.append(list(te[i,:]))\n",
    "carb_e_rate = []\n",
    "pg_time_by_type = np.array(pg_time_by_type[:6,:])\n",
    "target_emissions = np.array(target_emissions).T"
   ]
  },
  {
   "cell_type": "code",
   "execution_count": 62,
   "metadata": {},
   "outputs": [],
   "source": [
    "carb_total = np.reshape(np.array(res).T + target_emissions[0], (24,))"
   ]
  },
  {
   "cell_type": "code",
   "execution_count": 573,
   "metadata": {},
   "outputs": [],
   "source": [
    "'''actual_supply_renew = pd.read_csv(\"data\\CAISO-supply-20190712 - Copy.csv\").to_numpy()[:,1:].T\n",
    "actual_supply_renew_ = []\n",
    "for i in range(0,288):\n",
    "    if i%12 == 0:\n",
    "        actual_supply_renew_.append(list(actual_supply_renew[i,:]))\n",
    "actual_supply_renew_ = np.array(actual_supply_renew_).T'''"
   ]
  },
  {
   "cell_type": "code",
   "execution_count": 63,
   "metadata": {},
   "outputs": [],
   "source": [
    "tt = pd.read_csv(\"data/201906/CAISO-co2-20190617.csv\").to_numpy()[:,1:].T\n",
    "real_total_e = []\n",
    "for i in range(0,288):\n",
    "    if i%12 == 0:\n",
    "        real_total_e.append(tt[i])"
   ]
  },
  {
   "cell_type": "code",
   "execution_count": 64,
   "metadata": {},
   "outputs": [
    {
     "data": {
      "text/plain": [
       "array([0.49802725824910166], dtype=object)"
      ]
     },
     "execution_count": 64,
     "metadata": {},
     "output_type": "execute_result"
    }
   ],
   "source": [
    "get_wMAPE(real_total_e, carb_total)"
   ]
  },
  {
   "cell_type": "code",
   "execution_count": 65,
   "metadata": {},
   "outputs": [
    {
     "data": {
      "text/plain": [
       "array([0.5036894200851442], dtype=object)"
      ]
     },
     "execution_count": 65,
     "metadata": {},
     "output_type": "execute_result"
    }
   ],
   "source": [
    "get_MAPE(real_total_e, carb_total)"
   ]
  },
  {
   "cell_type": "code",
   "execution_count": 66,
   "metadata": {},
   "outputs": [
    {
     "data": {
      "image/png": "[encoded data removed]",
      "text/plain": [
       "<Figure size 640x480 with 1 Axes>"
      ]
     },
     "metadata": {},
     "output_type": "display_data"
    }
   ],
   "source": [
    "x = [i for i in range(0, 24, 1)]\n",
    "plt.plot(x, real_total_e, color='b', label='CAISO data')\n",
    "plt.xlabel(\"Time\")\n",
    "plt.ylabel(\"mTco2/h\")\n",
    "plt.xticks(x)\n",
    "plt.plot(x, carb_total, color='r', label='Result')\n",
    "plt.title(\"06/17/2019 Total carbon emission\")\n",
    "plt.legend()\n",
    "plt.grid()\n",
    "plt.savefig('foo.png')"
   ]
  },
  {
   "cell_type": "code",
   "execution_count": 67,
   "metadata": {},
   "outputs": [],
   "source": [
    "emi_by_type = np.array(emi_by_type).T"
   ]
  },
  {
   "cell_type": "code",
   "execution_count": 68,
   "metadata": {},
   "outputs": [
    {
     "data": {
      "image/png": "[encoded data removed]",
      "text/plain": [
       "<Figure size 1400x500 with 2 Axes>"
      ]
     },
     "metadata": {},
     "output_type": "display_data"
    }
   ],
   "source": [
    "fig, (ax1, ax2) = plt.subplots(1, 2, sharey=True, figsize=(14,5))\n",
    "#fig.suptitle('Comparison of carbon emissions by fuel type')\n",
    "x = [i for i in range(0, 24, 1)]\n",
    "ax1.plot(x, target_emissions[0], label='Imports', color='red')\n",
    "ax1.plot(x, target_emissions[1], label='Natural Gas', color='orange')\n",
    "ax1.plot(x, target_emissions[2], label='Biogas', color='cyan')\n",
    "ax1.plot(x, target_emissions[3], label='Biomass', color='green')\n",
    "ax1.plot(x, target_emissions[4], label='Geothermal', color='brown')\n",
    "ax1.plot(x, target_emissions[5], label='Coal', color='black')\n",
    "ax1.set_xticks([i for i in range(0,24,1)])\n",
    "ax1.set_title(\"06/17/2019 Total carbon emissions from real data\")\n",
    "ax1.grid()\n",
    "ax2.plot(x, emi_by_type[0], label='Imports', color='red')\n",
    "ax2.plot(x, emi_by_type[1], label='Natural Gas', color='orange')\n",
    "ax2.plot(x, emi_by_type[2], label='Biogas', color='cyan')\n",
    "ax2.plot(x, emi_by_type[3], label='Biomass', color='green')\n",
    "ax2.plot(x, emi_by_type[4], label='Geothermal', color='brown')\n",
    "ax2.plot(x, emi_by_type[5], label='Coal', color='black')\n",
    "fig.text(0.5, 0.04, 'Time', ha='center', va='center')\n",
    "fig.text(0.06, 0.5, 'Tonnes', ha='center', va='center', rotation='vertical')\n",
    "ax2.set_xticks([i for i in range(0,24,1)])\n",
    "ax2.set_title(\"06/17/2019 Total carbon emissions from our model\")\n",
    "ax2.legend()\n",
    "ax2.grid()\n",
    "plt.savefig('foo.png')\n",
    "#fig.tight_layout()"
   ]
  }
 ],
 "metadata": {
  "kernelspec": {
   "display_name": "Python 3",
   "language": "python",
   "name": "python3"
  },
  "language_info": {
   "codemirror_mode": {
    "name": "ipython",
    "version": 3
   },
   "file_extension": ".py",
   "mimetype": "text/x-python",
   "name": "python",
   "nbconvert_exporter": "python",
   "pygments_lexer": "ipython3",
   "version": "3.11.9"
  }
 },
 "nbformat": 4,
 "nbformat_minor": 2
}
