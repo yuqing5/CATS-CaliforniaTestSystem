{
 "cells": [
  {
   "cell_type": "code",
   "execution_count": 186,
   "metadata": {},
   "outputs": [],
   "source": [
    "import pandas as pd\n",
    "import json\n",
    "import collections\n",
    "import scipy.io\n",
    "import numpy as np\n",
    "import mpu\n",
    "import math"
   ]
  },
  {
   "cell_type": "code",
   "execution_count": 218,
   "metadata": {},
   "outputs": [],
   "source": [
    "bus = scipy.io.loadmat('MATPOWER/bus.mat')['bus']\n",
    "power_demand = bus[:, 2]\n",
    "df = pd.read_csv(\"GIS/CATS_gens.csv\")\n",
    "df = df[df['Pmax'] != 0.0].to_numpy()\n",
    "#df = df.drop_duplicates(subset=['PlantCode','GenID']).to_numpy()"
   ]
  },
  {
   "cell_type": "code",
   "execution_count": 219,
   "metadata": {},
   "outputs": [
    {
     "data": {
      "text/plain": [
       "Fuel Code\n",
       "BIT    4.702783\n",
       "DFO    1.191170\n",
       "GEO    0.028590\n",
       "JF     0.988836\n",
       "MSW    1.004947\n",
       "NG     0.603798\n",
       "PG     1.331544\n",
       "WO     0.400283\n",
       "Name: carbon emission rate, dtype: float64"
      ]
     },
     "execution_count": 219,
     "metadata": {},
     "output_type": "execute_result"
    }
   ],
   "source": [
    "gen_emission = pd.read_excel(\"emissions2022.xlsx\")\n",
    "gen_emission = gen_emission[gen_emission['Generation (kWh)'] > 0]\n",
    "gen_emission = gen_emission[gen_emission['State'] == 'CA']\n",
    "gen_emission = gen_emission[['Plant Code','Fuel Code','Aggregated Fuel Group','carbon emission rate']]\n",
    "gen_emission = gen_emission.rename(columns={'Plant Code': 'Plant_Code'})\n",
    "gen_emission.groupby(['Fuel Code'])['carbon emission rate'].mean()\n",
    "# get carbon emssion rate of each fuel type (tons/mWh)"
   ]
  },
  {
   "cell_type": "code",
   "execution_count": 220,
   "metadata": {},
   "outputs": [],
   "source": [
    "type_to_emission = collections.defaultdict(float)\n",
    "type_to_emission['Conventional Hydroelectric'] = 0.001\n",
    "type_to_emission['Hydroelectric Pumped Storage'] = 0.001\n",
    "type_to_emission['Petroleum Liquids'] = 1.191\n",
    "type_to_emission['Natural Gas Internal Combustion Engine'] = 0.604\n",
    "type_to_emission['Natural Gas Fired Combined Cycle'] = 0.604\n",
    "type_to_emission['Natural Gas Steam Turbine'] = 0.604\n",
    "type_to_emission['Natural Gas Fired Combustion Turbine'] = 0.604\n",
    "#type_to_emission['Nuclear'] = 0\n",
    "type_to_emission['Geothermal'] = 0.029\n",
    "#type_to_emission['Onshore Wind Turbine'] = 0\n",
    "type_to_emission['Other Waste Biomass'] = 0.1\n",
    "type_to_emission['Wood/Wood Waste Biomass'] = 0.1\n",
    "type_to_emission['Landfill Gas'] = 0.604\n",
    "type_to_emission['Solar Photovoltaic'] = 0.001\n",
    "type_to_emission['Solar Thermal without Energy Storage'] = 0.001\n",
    "type_to_emission['Conventional Steam Coal'] = 4.703\n",
    "type_to_emission['Other Gases'] = 0.8\n",
    "type_to_emission['Batteries'] = 0.001\n",
    "#type_to_emission['Petroleum Coke'] = 1808.5\n",
    "type_to_emission['Municipal Solid Waste'] = 1.005\n",
    "type_to_emission['Other Natural Gas'] = 0.604\n",
    "type_to_emission['All Other'] = 0.1\n",
    "#type_to_emission['IMPORT'] = 884\n",
    "#type_to_emission['Synchronous Condenser'] = 884"
   ]
  },
  {
   "cell_type": "code",
   "execution_count": 221,
   "metadata": {},
   "outputs": [],
   "source": [
    "branch_ = scipy.io.loadmat('MATPOWER/branch2.mat')['B']\n",
    "branch_from_bus = list(map(int, branch_[:, 0]-1))\n",
    "branch_to_bus = list(map(int, branch_[:, 1]-1))\n",
    "line_to_nodes = [list( map(int,i) ) for i in branch_[:, 0:2]-1]\n"
   ]
  },
  {
   "cell_type": "code",
   "execution_count": 222,
   "metadata": {},
   "outputs": [],
   "source": [
    "f = open(\"pf_solution.json\")\n",
    "sol = json.load(f)\n",
    "gen = [0]*2149\n",
    "gen_cost = [0]*2149\n",
    "power_generation = [0]*2149\n",
    "carbon_emission = [0]*2149\n",
    "branch_power_to = [0]*10574\n",
    "branch_power_from = [0]*10574\n",
    "for line, val in sol['solution']['gen'].items():\n",
    "    if val['pg'] != 0.0:\n",
    "        gen[int(line)-1] = df[int(line)-1][2]-1\n",
    "        carbon_emission[int(line)-1] = type_to_emission[df[int(line)-1][3]]\n",
    "        gen_cost[int(line)-1] = val['pg_cost']*100\n",
    "        power_generation[int(line)-1] = val['pg']*100\n",
    "\n",
    "for line, val in sol['solution']['branch'].items():\n",
    "    branch_power_from[int(line)-1] = val['pf']*100\n",
    "    branch_power_to[int(line)-1] = val['pt']*100\n",
    "\n",
    "f.close()"
   ]
  },
  {
   "cell_type": "code",
   "execution_count": 223,
   "metadata": {},
   "outputs": [],
   "source": [
    "graph = collections.defaultdict(list) # from: (to, line)\n",
    "graph_reverse = collections.defaultdict(list) # to: (from, line)\n",
    "for i, (from_bus, to_bus) in enumerate(line_to_nodes):\n",
    "    graph[from_bus].append((to_bus, i))\n",
    "    graph_reverse[to_bus].append((from_bus, i))\n",
    "for i, f in enumerate(branch_power_from):\n",
    "    if f < 0.0:\n",
    "        from_node, to_node = line_to_nodes[i]\n",
    "        graph[from_node].remove((to_node, i))\n",
    "        graph[to_node].append((from_node, i))\n",
    "        graph_reverse[to_node].remove((from_node, i))\n",
    "        graph_reverse[from_node].append((to_node, i))\n",
    "        branch_power_from[i] = -f"
   ]
  },
  {
   "cell_type": "code",
   "execution_count": 224,
   "metadata": {},
   "outputs": [
    {
     "name": "stdout",
     "output_type": "stream",
     "text": [
      "Number of transmission lines and transformers: 10574\n",
      "Number of buses: 8870\n",
      "Number of generators: 2149\n"
     ]
    }
   ],
   "source": [
    "num_bus = len(bus)\n",
    "num_branch = len(branch_from_bus)\n",
    "num_gen = len(gen)\n",
    "print(\"Number of transmission lines and transformers: \" + str(num_branch))\n",
    "print(\"Number of buses: \" + str(num_bus))\n",
    "print(\"Number of generators: \" + str(num_gen))"
   ]
  },
  {
   "cell_type": "code",
   "execution_count": 226,
   "metadata": {},
   "outputs": [],
   "source": [
    "# find cycles\n",
    "def dfs_cycle(graph, n, visiting, curPath, start, visited):\n",
    "    if visiting[n]:\n",
    "        #if n == start:\n",
    "        to_print = []\n",
    "        for i in range(curPath.index(n), len(curPath)):\n",
    "            to_print.append(curPath[i])\n",
    "            visited[curPath[i]] = True\n",
    "        cycles.add(frozenset(to_print))\n",
    "        return\n",
    "    visiting[n] = True\n",
    "    curPath.append(n)\n",
    "    for nei, _ in graph[n]:\n",
    "        dfs_cycle(graph, nei, visiting, curPath, start, visited)\n",
    "    visiting[n] = False\n",
    "    curPath.pop(-1)"
   ]
  },
  {
   "cell_type": "code",
   "execution_count": 215,
   "metadata": {},
   "outputs": [
    {
     "data": {
      "text/plain": [
       "770"
      ]
     },
     "execution_count": 215,
     "metadata": {},
     "output_type": "execute_result"
    }
   ],
   "source": [
    "# find number of components in graph\n",
    "visited = set()\n",
    "num_components = 0\n",
    "def find_components(graph, n, visited):\n",
    "    if n in visited: return\n",
    "    visited.add(n)\n",
    "    for nei, _ in graph[n]:\n",
    "        find_components(graph, nei, visited)\n",
    "for n in range(num_bus):\n",
    "    if n not in visited:\n",
    "        find_components(graph, n, visited)\n",
    "        num_components += 1\n",
    "num_components\n",
    "# we get num_compoents = 770"
   ]
  },
  {
   "cell_type": "code",
   "execution_count": null,
   "metadata": {},
   "outputs": [],
   "source": [
    "#cycle start with: 2148 4471 4472\n",
    "#cycle start with: 1904 3333 3334 3332\n",
    "#start with: 2646 2647 2655\n",
    "# start with: 2880 3394 3395\n",
    "# start with: 3377 8267 3378\n",
    "# start with: 4866 4868 4867"
   ]
  },
  {
   "cell_type": "code",
   "execution_count": 90,
   "metadata": {},
   "outputs": [],
   "source": [
    "visited = [False]*num_bus\n",
    "for n in range(num_bus):\n",
    "    if not visited[n]:\n",
    "        start = n\n",
    "        visiting = [False]*num_bus\n",
    "        dfs_cycle(graph, n, visiting, [], start, visited)"
   ]
  },
  {
   "cell_type": "code",
   "execution_count": 228,
   "metadata": {},
   "outputs": [],
   "source": [
    "cycles = set()\n",
    "cycles.add(frozenset((2148,4471,4472)))\n",
    "cycles.add(frozenset((1904,3333,3334,3332)))\n",
    "cycles.add(frozenset((2646,2647,2655)))\n",
    "cycles.add(frozenset((2880,3394,3395)))\n",
    "cycles.add(frozenset((3377,8267,3378)))\n",
    "cycles.add(frozenset((4866,4868,4867)))"
   ]
  },
  {
   "cell_type": "code",
   "execution_count": 229,
   "metadata": {},
   "outputs": [],
   "source": [
    "def update_graph_DAG(graph, c):\n",
    "    for b in c:\n",
    "        for nei, line in graph[b]:\n",
    "            if nei in c:\n",
    "                branch_power_from[line] = 0\n",
    "                if (nei, line) in graph[b]:\n",
    "                    graph[b].remove((nei, line))\n",
    "        for nei, line in graph_reverse[b]:\n",
    "            if nei in c:\n",
    "                branch_power_from[line] = 0\n",
    "                if (b, line) in graph[nei]:\n",
    "                    graph[nei].remove((b, line))\n",
    "        if b != c[0]:\n",
    "            for nei, line in graph[b]:\n",
    "                if nei not in c:\n",
    "                    graph[c[0]].append((nei, line))\n",
    "                    if (nei, line) in graph[b]:\n",
    "                        graph[b].remove((nei, line))\n",
    "            for nei, line in graph_reverse[b]:\n",
    "                if nei not in c:\n",
    "                    graph[nei].append((c[0], line))\n",
    "                    if (b, line) in graph[nei]:\n",
    "                        graph[nei].remove((b, line))\n",
    "            graph[b] = []\n",
    "    return graph"
   ]
  },
  {
   "cell_type": "code",
   "execution_count": 230,
   "metadata": {},
   "outputs": [],
   "source": [
    "for c in cycles:\n",
    "    c = list(c)\n",
    "    total_demand = 0\n",
    "    total_gen = 0\n",
    "    for b in c:\n",
    "        total_demand += power_demand[b]\n",
    "        idx = gen.index(b) if b in gen else -1\n",
    "        if idx != -1:\n",
    "            total_gen += power_generation[idx]\n",
    "    power_demand[c[0]] = total_demand\n",
    "    idx = gen.index(b) if b in gen else -1\n",
    "    if idx != -1:\n",
    "        power_generation[gen.index(c[0])] = total_gen\n",
    "    graph = update_graph_DAG(graph, c)\n"
   ]
  },
  {
   "cell_type": "code",
   "execution_count": 231,
   "metadata": {},
   "outputs": [],
   "source": [
    "graph_reverse = collections.defaultdict(list)\n",
    "for k, v in graph.items():\n",
    "    for b, line in v:\n",
    "        graph_reverse[b].append((k, line))"
   ]
  },
  {
   "cell_type": "code",
   "execution_count": 317,
   "metadata": {},
   "outputs": [],
   "source": [
    "# Tarjan's Strongly Connected Component (SCC) Algorithm\n",
    "UNVISITED = -1\n",
    "id = [0]\n",
    "sccCount = [0]\n",
    "ids = [0]*num_bus\n",
    "low = [0]*num_bus\n",
    "onStack = [False]*num_bus\n",
    "stack = []\n",
    "def findSccs():\n",
    "    for i in range(num_bus): ids[i] = UNVISITED\n",
    "    for i in range(num_bus):\n",
    "        if ids[i] == UNVISITED:\n",
    "            tarjan_dfs(i)\n",
    "    return low\n",
    "def tarjan_dfs(at):\n",
    "    stack.append(at)\n",
    "    onStack[at] = True\n",
    "    ids[at] = id[0]\n",
    "    low[at] = id[0]\n",
    "    id[0] += 1\n",
    "    for nei, _ in graph[at]:\n",
    "        if ids[nei] == UNVISITED:\n",
    "            tarjan_dfs(nei)\n",
    "        if onStack[nei]:\n",
    "            low[at] = min(low[nei], low[at])\n",
    "    if ids[at] == low[at]:\n",
    "        while stack:\n",
    "            node = stack.pop(-1)\n",
    "            onStack[node] = False\n",
    "            low[node] = ids[at]\n",
    "            if node == at: break\n",
    "        sccCount[0] += 1"
   ]
  },
  {
   "cell_type": "code",
   "execution_count": 232,
   "metadata": {},
   "outputs": [],
   "source": [
    "# Kahn's algo\n",
    "def topo_order_kahn(graph):\n",
    "    in_degree = [0]*num_bus\n",
    "    for i in range(num_bus):\n",
    "        for nei, _ in graph[i]:\n",
    "            in_degree[nei] += 1\n",
    "    q = []\n",
    "    for i in range(num_bus):\n",
    "        if in_degree[i] == 0:\n",
    "            q.append(i)\n",
    "    index = 0\n",
    "    order = [0]*num_bus\n",
    "    while q:\n",
    "        at = q.pop(0)\n",
    "        order[index] = at\n",
    "        index += 1\n",
    "        for nei, _ in graph[at]:\n",
    "            in_degree[nei] -= 1\n",
    "            if in_degree[nei] == 0:\n",
    "                q.append(nei)\n",
    "    return in_degree"
   ]
  },
  {
   "cell_type": "code",
   "execution_count": 235,
   "metadata": {},
   "outputs": [],
   "source": [
    "line_to_gen = collections.defaultdict(set)\n",
    "node_to_gen = collections.defaultdict(set)\n",
    "def dfs(g, n, visited):\n",
    "    if n in visited: return\n",
    "    visited.add(n)\n",
    "    node_to_gen[n].add(g)\n",
    "    for nei, line in graph[n]:\n",
    "        line_to_gen[line].add(g)\n",
    "        dfs(g, nei, visited)\n",
    "for i, g in enumerate(gen):\n",
    "    visited = set()\n",
    "    dfs(g, g, visited)\n",
    "line_prop_mat=np.zeros((num_gen, num_branch), dtype=float)\n",
    "bus_prop_mat=np.zeros((num_gen, num_bus), dtype=float)\n",
    "# initially, if node_to_gen only has 1 generator, bus_prop_mat start with 1\n",
    "for k, v in node_to_gen.items():\n",
    "    if len(v) == 1:\n",
    "        idx = list(gen).index(list(v)[0])\n",
    "        bus_prop_mat[idx][int(k)] = 1.0\n",
    "for k, v in line_to_gen.items():\n",
    "    if len(v) == 1:\n",
    "        idx = list(gen).index(list(v)[0])\n",
    "        line_prop_mat[idx][int(k)] = 1.0\n",
    "# visit nodes in topological order\n",
    "# step 1: calculate bus_prop based on in flowing lines_prop\n",
    "# step 2: calculate line_prop of out flowing lines\n",
    "in_degree = collections.defaultdict(int)\n",
    "for i, v in graph_reverse.items():\n",
    "    in_degree[i] = len(v)\n",
    "q = [] # list of nodes with no inflow\n",
    "topo_order = []\n",
    "for g in gen:\n",
    "    if in_degree[g] == 0:\n",
    "        q.append(g)\n",
    "while q:\n",
    "    cur = int(q.pop(0))\n",
    "    if len(node_to_gen[cur]) > 1:\n",
    "        out_total = power_demand[cur]\n",
    "        for nei, out_line in graph[cur]:\n",
    "            out_total += branch_power_from[out_line]\n",
    "        \n",
    "        for g in node_to_gen[cur]:\n",
    "            idx = list(gen).index(g)\n",
    "            if cur == g:\n",
    "                if out_total > 0.000001: \n",
    "                        #print(\"Power gen: \" + str(power_generation[idx]))\n",
    "                    bus_prop_mat[idx][cur] = power_generation[idx]/out_total\n",
    "            else:\n",
    "                for nei, in_line in graph_reverse[cur]:\n",
    "                    if out_total > 0.000001: \n",
    "                        bus_prop_mat[idx][cur] += branch_power_from[in_line]*line_prop_mat[idx][in_line]/out_total\n",
    "        for g in node_to_gen[cur]:\n",
    "            idx = list(gen).index(g)\n",
    "            for nei, out_line in graph[cur]:\n",
    "                line_prop_mat[idx][out_line] = bus_prop_mat[idx][cur]\n",
    "\n",
    "    topo_order.append(cur)\n",
    "    for nei, line in graph[cur]:\n",
    "        in_degree[nei] -= 1\n",
    "        if in_degree[nei] == 0:\n",
    "            q.append(nei)\n",
    "carbon_vec = np.zeros((num_bus, 1), dtype=float)\n",
    "bus_prop_mat_prop = np.zeros((num_gen, num_bus), dtype=float)\n",
    "for i in range(num_gen):\n",
    "    s = np.sum(bus_prop_mat[i])\n",
    "    for j in range(num_bus):\n",
    "        if s != 0.0:\n",
    "            bus_prop_mat_prop[i][j] = bus_prop_mat[i][j]/s\n",
    "\n",
    "for i in range(num_bus):\n",
    "    for j in range(num_gen):\n",
    "        #load[i] += bus_prop_mat[j,i] * power_generation.value[j]\n",
    "        carbon_vec[i] += bus_prop_mat_prop[j,i] * power_generation[j] * carbon_emission[j]\n",
    "total_cost = np.dot(gen_cost, power_generation)\n",
    "total_carbon = sum(carbon_vec)\n"
   ]
  },
  {
   "cell_type": "code",
   "execution_count": 236,
   "metadata": {},
   "outputs": [
    {
     "data": {
      "text/plain": [
       "array([3577.92792852])"
      ]
     },
     "execution_count": 236,
     "metadata": {},
     "output_type": "execute_result"
    }
   ],
   "source": [
    "total_carbon"
   ]
  },
  {
   "cell_type": "code",
   "execution_count": 251,
   "metadata": {},
   "outputs": [],
   "source": [
    "# in_degree_list = [0]*num_bus\n",
    "# for k, v in in_degree.items():\n",
    "#     in_degree_list[int(k)] = v\n",
    "# def dfs_cycle(n, visited, total_gen, temp, in_degree_list):\n",
    "#     if n in visited: return\n",
    "#     visited.add(n)\n",
    "#     if n in gen:\n",
    "#         total_gen[0] += power_generation[gen.index(n)]\n",
    "#         temp[n] = power_generation[gen.index(n)]\n",
    "#     for nei, _ in graph[n]:\n",
    "#         if in_degree_list[int(nei)] > 0:\n",
    "#             dfs_cycle(int(nei), visited, total_gen, temp, in_degree_list)\n",
    "#             in_degree_list[int(nei)] -= 1"
   ]
  },
  {
   "cell_type": "code",
   "execution_count": 185,
   "metadata": {},
   "outputs": [],
   "source": [
    "# for i in range(len(in_degree_list)):\n",
    "#     if in_degree_list[i] > 0 and i in gen and power_generation[gen.index(i)] > 0.000001 and len(graph[i]) != 0:\n",
    "#         total_gen = [0.0]\n",
    "#         visited = set()\n",
    "#         temp = collections.defaultdict(float)\n",
    "#         dfs_cycle(i, visited, total_gen, temp, in_degree_list)\n",
    "#         if total_gen != 0:\n",
    "#             for k, v in temp.items():\n",
    "#                 print(v/total_gen[0])\n",
    "#                 bus_prop_mat[gen.index(k)][k] = v/total_gen[0]\n"
   ]
  },
  {
   "cell_type": "code",
   "execution_count": 253,
   "metadata": {},
   "outputs": [
    {
     "data": {
      "text/plain": [
       "1.0000000000000004"
      ]
     },
     "execution_count": 253,
     "metadata": {},
     "output_type": "execute_result"
    }
   ],
   "source": [
    "max(np.sum(np.array(bus_prop_mat_prop), axis=1))"
   ]
  },
  {
   "cell_type": "code",
   "execution_count": 251,
   "metadata": {},
   "outputs": [],
   "source": [
    "avg_carbon_emission_rate_node = carbon_emission @ bus_prop_mat_prop"
   ]
  },
  {
   "cell_type": "code",
   "execution_count": 252,
   "metadata": {},
   "outputs": [],
   "source": [
    "df_ = pd.read_csv(\"GIS/CATS_buses.csv\")\n",
    "df_.insert(2, 'power_demand', power_demand)\n",
    "df_.insert(3, 'avg carbon emission', avg_carbon_emission_rate_node)\n",
    "df_.to_csv('GIS/CATS_buses_output.csv', index=False)"
   ]
  }
 ],
 "metadata": {
  "kernelspec": {
   "display_name": "Python 3",
   "language": "python",
   "name": "python3"
  },
  "language_info": {
   "codemirror_mode": {
    "name": "ipython",
    "version": 3
   },
   "file_extension": ".py",
   "mimetype": "text/x-python",
   "name": "python",
   "nbconvert_exporter": "python",
   "pygments_lexer": "ipython3",
   "version": "3.11.6"
  }
 },
 "nbformat": 4,
 "nbformat_minor": 2
}
