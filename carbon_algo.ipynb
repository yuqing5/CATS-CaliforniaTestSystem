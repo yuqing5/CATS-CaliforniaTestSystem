{
 "cells": [
  {
   "cell_type": "code",
   "execution_count": 144,
   "metadata": {},
   "outputs": [],
   "source": [
    "import pandas as pd\n",
    "import json\n",
    "import collections\n",
    "import scipy.io\n",
    "import numpy as np\n",
    "import mpu\n",
    "import math"
   ]
  },
  {
   "cell_type": "code",
   "execution_count": 205,
   "metadata": {},
   "outputs": [],
   "source": [
    "bus = scipy.io.loadmat('MATPOWER/bus.mat')['bus']\n",
    "power_demand = bus[:, 2]\n",
    "df = pd.read_csv(\"GIS/CATS_gens.csv\")\n",
    "df = df[df['Pmax'] != 0.0].to_numpy()\n",
    "#df = df.drop_duplicates(subset=['PlantCode','GenID']).to_numpy()"
   ]
  },
  {
   "cell_type": "code",
   "execution_count": 368,
   "metadata": {},
   "outputs": [
    {
     "data": {
      "text/plain": [
       "Fuel Code\n",
       "BIT    4.702783\n",
       "DFO    1.191170\n",
       "GEO    0.028590\n",
       "JF     0.988836\n",
       "MSW    1.004947\n",
       "NG     0.603798\n",
       "PG     1.331544\n",
       "WO     0.400283\n",
       "Name: carbon emission rate, dtype: float64"
      ]
     },
     "execution_count": 368,
     "metadata": {},
     "output_type": "execute_result"
    }
   ],
   "source": [
    "gen_emission = pd.read_excel(\"emissions2022.xlsx\")\n",
    "gen_emission = gen_emission[gen_emission['Generation (kWh)'] > 0]\n",
    "gen_emission = gen_emission[gen_emission['State'] == 'CA']\n",
    "gen_emission = gen_emission[['Plant Code','Fuel Code','Aggregated Fuel Group','carbon emission rate']]\n",
    "gen_emission = gen_emission.rename(columns={'Plant Code': 'Plant_Code'})\n",
    "gen_emission.groupby(['Fuel Code'])['carbon emission rate'].mean()"
   ]
  },
  {
   "cell_type": "code",
   "execution_count": 246,
   "metadata": {},
   "outputs": [],
   "source": [
    "type_to_emission = collections.defaultdict(float)\n",
    "type_to_emission['Conventional Hydroelectric'] = 0.001\n",
    "type_to_emission['Hydroelectric Pumped Storage'] = 0.001\n",
    "type_to_emission['Petroleum Liquids'] = 1.191\n",
    "type_to_emission['Natural Gas Internal Combustion Engine'] = 0.604\n",
    "type_to_emission['Natural Gas Fired Combined Cycle'] = 0.604\n",
    "type_to_emission['Natural Gas Steam Turbine'] = 0.604\n",
    "type_to_emission['Natural Gas Fired Combustion Turbine'] = 0.604\n",
    "#type_to_emission['Nuclear'] = 0\n",
    "type_to_emission['Geothermal'] = 0.029\n",
    "#type_to_emission['Onshore Wind Turbine'] = 0\n",
    "type_to_emission['Other Waste Biomass'] = 0.1\n",
    "type_to_emission['Wood/Wood Waste Biomass'] = 0.1\n",
    "type_to_emission['Landfill Gas'] = 0.604\n",
    "type_to_emission['Solar Photovoltaic'] = 0.001\n",
    "type_to_emission['Solar Thermal without Energy Storage'] = 0.001\n",
    "type_to_emission['Conventional Steam Coal'] = 4.703\n",
    "type_to_emission['Other Gases'] = 0.8\n",
    "type_to_emission['Batteries'] = 0.001\n",
    "#type_to_emission['Petroleum Coke'] = 1808.5\n",
    "type_to_emission['Municipal Solid Waste'] = 1.005\n",
    "type_to_emission['Other Natural Gas'] = 0.604\n",
    "type_to_emission['All Other'] = 0.1\n",
    "#type_to_emission['IMPORT'] = 884\n",
    "#type_to_emission['Synchronous Condenser'] = 884"
   ]
  },
  {
   "cell_type": "code",
   "execution_count": 206,
   "metadata": {},
   "outputs": [],
   "source": [
    "branch_ = scipy.io.loadmat('MATPOWER/branch2.mat')['B']\n",
    "branch_from_bus = list(map(int, branch_[:, 0]-1))\n",
    "branch_to_bus = list(map(int, branch_[:, 1]-1))\n",
    "line_to_nodes = branch_[:, 0:2]-1"
   ]
  },
  {
   "cell_type": "code",
   "execution_count": 293,
   "metadata": {},
   "outputs": [
    {
     "data": {
      "text/plain": [
       "10574"
      ]
     },
     "execution_count": 293,
     "metadata": {},
     "output_type": "execute_result"
    }
   ],
   "source": [
    "len(line_to_nodes)"
   ]
  },
  {
   "cell_type": "code",
   "execution_count": 207,
   "metadata": {},
   "outputs": [],
   "source": [
    "f = open(\"pf_solution.json\")\n",
    "sol = json.load(f)\n",
    "gen = [0]*2149\n",
    "gen_cost = [0]*2149\n",
    "power_generation = [0]*2149\n",
    "carbon_emission = [0]*2149\n",
    "branch_power_to = [0]*10574\n",
    "branch_power_from = [0]*10574\n",
    "for line, val in sol['solution']['gen'].items():\n",
    "    if val['pg'] != 0.0:\n",
    "        gen[int(line)-1] = df[int(line)-1][2]-1\n",
    "        carbon_emission[int(line)-1] = type_to_emission[df[int(line)-1][3]]\n",
    "        gen_cost[int(line)-1] = val['pg_cost']*100\n",
    "        power_generation[int(line)-1] = val['pg']*100\n",
    "\n",
    "for line, val in sol['solution']['branch'].items():\n",
    "    branch_power_from[int(line)-1] = val['pf']*100\n",
    "    branch_power_to[int(line)-1] = val['pt']*100\n",
    "\n",
    "f.close()"
   ]
  },
  {
   "cell_type": "code",
   "execution_count": 208,
   "metadata": {},
   "outputs": [],
   "source": [
    "graph = collections.defaultdict(list) # from: (to, line)\n",
    "graph_reverse = collections.defaultdict(list) # to: (from, line)\n",
    "for i, (from_bus, to_bus) in enumerate(line_to_nodes):\n",
    "    graph[from_bus].append((to_bus, i))\n",
    "    graph_reverse[to_bus].append((from_bus, i))\n",
    "for i, f in enumerate(branch_power_from):\n",
    "    if f < 0.0:\n",
    "        from_node, to_node = line_to_nodes[i]\n",
    "        graph[from_node].remove((to_node, i))\n",
    "        graph[to_node].append((from_node, i))\n",
    "        graph_reverse[to_node].remove((from_node, i))\n",
    "        graph_reverse[from_node].append((to_node, i))\n",
    "        branch_power_from[i] = -f"
   ]
  },
  {
   "cell_type": "code",
   "execution_count": 209,
   "metadata": {},
   "outputs": [
    {
     "name": "stdout",
     "output_type": "stream",
     "text": [
      "Number of transmission lines and transformers: 10574\n",
      "Number of buses: 8870\n",
      "Number of generators: 2149\n"
     ]
    }
   ],
   "source": [
    "num_bus = len(bus)\n",
    "num_branch = len(branch_from_bus)\n",
    "num_gen = len(gen)\n",
    "print(\"Number of transmission lines and transformers: \" + str(num_branch))\n",
    "print(\"Number of buses: \" + str(num_bus))\n",
    "print(\"Number of generators: \" + str(num_gen))"
   ]
  },
  {
   "cell_type": "code",
   "execution_count": 39,
   "metadata": {},
   "outputs": [
    {
     "data": {
      "text/plain": [
       "14.940796699941366"
      ]
     },
     "execution_count": 39,
     "metadata": {},
     "output_type": "execute_result"
    }
   ],
   "source": [
    "branch_power_to[2705]"
   ]
  },
  {
   "cell_type": "code",
   "execution_count": 132,
   "metadata": {},
   "outputs": [
    {
     "data": {
      "text/plain": [
       "90.55153147073354"
      ]
     },
     "execution_count": 132,
     "metadata": {},
     "output_type": "execute_result"
    }
   ],
   "source": [
    "branch_power_from[2949]"
   ]
  },
  {
   "cell_type": "code",
   "execution_count": 250,
   "metadata": {},
   "outputs": [],
   "source": [
    "line_to_gen = collections.defaultdict(set)\n",
    "node_to_gen = collections.defaultdict(set)\n",
    "def dfs(g, n, visited):\n",
    "    if n in visited: return\n",
    "    visited.add(n)\n",
    "    node_to_gen[n].add(g)\n",
    "    for nei, line in graph[n]:\n",
    "        line_to_gen[line].add(g)\n",
    "        dfs(g, nei, visited)\n",
    "for i, g in enumerate(gen):\n",
    "    visited = set()\n",
    "    dfs(g, g, visited)\n",
    "line_prop_mat=np.zeros((num_gen, num_branch), dtype=float)\n",
    "bus_prop_mat=np.zeros((num_gen, num_bus), dtype=float)\n",
    "# initially, if node_to_gen only has 1 generator, bus_prop_mat start with 1\n",
    "for k, v in node_to_gen.items():\n",
    "    if len(v) == 1:\n",
    "        idx = list(gen).index(list(v)[0])\n",
    "        bus_prop_mat[idx][int(k)] = 1.0\n",
    "for k, v in line_to_gen.items():\n",
    "    if len(v) == 1:\n",
    "        idx = list(gen).index(list(v)[0])\n",
    "        line_prop_mat[idx][int(k)] = 1.0\n",
    "# visit nodes in topological order\n",
    "# step 1: calculate bus_prop based on in flowing lines_prop\n",
    "# step 2: calculate line_prop of out flowing lines\n",
    "in_degree = collections.defaultdict(int)\n",
    "for i, v in graph_reverse.items():\n",
    "    in_degree[i] = len(v)\n",
    "q = [] # list of nodes with no inflow\n",
    "topo_order = []\n",
    "for g in gen:\n",
    "    if in_degree[g] == 0:\n",
    "        q.append(g)\n",
    "while q:\n",
    "    cur = int(q.pop(0))\n",
    "    if len(node_to_gen[cur]) > 1:\n",
    "        out_total = power_demand[cur]\n",
    "        for nei, out_line in graph[cur]:\n",
    "            out_total += branch_power_from[out_line]\n",
    "        \n",
    "        for g in node_to_gen[cur]:\n",
    "            idx = list(gen).index(g)\n",
    "            if cur == g:\n",
    "                if out_total > 0.000001: \n",
    "                        #print(\"Power gen: \" + str(power_generation[idx]))\n",
    "                    bus_prop_mat[idx][cur] = power_generation[idx]/out_total\n",
    "            else:\n",
    "                for nei, in_line in graph_reverse[cur]:\n",
    "                    if out_total > 0.000001: \n",
    "                        bus_prop_mat[idx][cur] += branch_power_from[in_line]*line_prop_mat[idx][in_line]/out_total\n",
    "        for g in node_to_gen[cur]:\n",
    "            idx = list(gen).index(g)\n",
    "            for nei, out_line in graph[cur]:\n",
    "                line_prop_mat[idx][out_line] = bus_prop_mat[idx][cur]\n",
    "\n",
    "    topo_order.append(cur)\n",
    "    for nei, line in graph[cur]:\n",
    "        in_degree[nei] -= 1\n",
    "        if in_degree[nei] == 0:\n",
    "            q.append(nei)\n"
   ]
  },
  {
   "cell_type": "code",
   "execution_count": 178,
   "metadata": {},
   "outputs": [
    {
     "data": {
      "text/plain": [
       "[(3960.0, 3145)]"
      ]
     },
     "execution_count": 178,
     "metadata": {},
     "output_type": "execute_result"
    }
   ],
   "source": [
    "graph_reverse[15]"
   ]
  },
  {
   "cell_type": "code",
   "execution_count": 251,
   "metadata": {},
   "outputs": [],
   "source": [
    "in_degree_list = [0]*num_bus\n",
    "for k, v in in_degree.items():\n",
    "    in_degree_list[int(k)] = v\n",
    "def dfs_cycle(n, visited, total_gen, temp, in_degree_list):\n",
    "    if n in visited: return\n",
    "    visited.add(n)\n",
    "    if n in gen:\n",
    "        total_gen[0] += power_generation[gen.index(n)]\n",
    "        temp[n] = power_generation[gen.index(n)]\n",
    "    for nei, _ in graph[n]:\n",
    "        if in_degree_list[int(nei)] > 0:\n",
    "            dfs_cycle(int(nei), visited, total_gen, temp, in_degree_list)\n",
    "            in_degree_list[int(nei)] -= 1"
   ]
  },
  {
   "cell_type": "code",
   "execution_count": 252,
   "metadata": {},
   "outputs": [
    {
     "name": "stdout",
     "output_type": "stream",
     "text": [
      "0.5638751875786592\n",
      "0.4361248124213408\n",
      "1.0\n",
      "0.8214283601178055\n",
      "0.17857163988219446\n",
      "1.0\n",
      "1.0\n",
      "0.33354926072088176\n",
      "0.6664507392791182\n",
      "1.0\n",
      "0.6503279674734895\n",
      "0.0039414390701801045\n",
      "0.03567170263828473\n",
      "0.24962367544226247\n",
      "0.060435215375783\n",
      "1.0\n",
      "1.0\n",
      "0.20877415114261993\n",
      "0.79122584885738\n",
      "1.0\n",
      "1.0\n",
      "1.0\n",
      "0.18181874468456266\n",
      "0.8181812553154374\n",
      "0.49999999999999956\n",
      "0.5000000000000004\n",
      "1.0\n",
      "1.0\n",
      "0.1176471706038275\n",
      "0.8823528293961724\n",
      "1.0\n",
      "0.20694068514969863\n",
      "0.6688948206537514\n",
      "0.12416449419655003\n",
      "1.0\n",
      "1.0\n",
      "1.0\n",
      "0.4323887395372227\n",
      "0.5676112604627772\n",
      "0.14701560473868028\n",
      "0.009461687870556963\n",
      "0.09114316887944386\n",
      "0.003659035515234736\n",
      "0.008601534720791145\n",
      "0.665278587357655\n",
      "0.004656953380451375\n",
      "0.006320149838177376\n",
      "0.0006652818996266429\n",
      "0.0069854284163533365\n",
      "0.0049895926742058744\n",
      "0.019353448968179896\n",
      "0.0016631997662832645\n",
      "0.0033263962157895075\n",
      "0.005590998624076071\n",
      "0.0036590355011958133\n",
      "0.004656953377017083\n",
      "0.003659035510960397\n",
      "0.003326396211128069\n",
      "0.005987510534193548\n",
      "1.0\n",
      "1.0\n",
      "0.0172762696754256\n",
      "0.037176788541332315\n",
      "0.007492746836939896\n",
      "0.002120583776999812\n",
      "0.000706857978211486\n",
      "0.027991770417878318\n",
      "0.0007068569299209587\n",
      "0.0038270173285095007\n",
      "0.0021205827326138266\n",
      "0.0021205774138211226\n",
      "0.05357818063726126\n",
      "7.05504138119188e-05\n",
      "-2.526218875478624e-11\n",
      "0.000656062137252518\n",
      "0.002403335303139798\n",
      "0.0014137271035896352\n",
      "0.0008747491686490074\n",
      "0.001202779699457734\n",
      "0.002403335313284416\n",
      "0.004373741495338764\n",
      "0.0012027796981082502\n",
      "0.0010934361818060398\n",
      "0.0017494972393995096\n",
      "0.0043825517269584216\n",
      "0.0012027796975583277\n",
      "0.001837844892534251\n",
      "0.004806669530463889\n",
      "0.006560611704907843\n",
      "0.020357655751341134\n",
      "0.014137259835928595\n",
      "0.25477038132081004\n",
      "0.0038170613306296145\n",
      "0.002077527782099312\n",
      "0.02099395505346389\n",
      "-9.02345404133489e-10\n",
      "-9.203223473282705e-10\n",
      "-9.203070144104962e-10\n",
      "-9.322278406920752e-10\n",
      "-9.205772081685221e-10\n",
      "-9.322350745387936e-10\n",
      "-9.664346811815656e-10\n",
      "-1.0216985650077439e-09\n",
      "-1.0516315467789683e-09\n",
      "-6.85700536724116e-10\n",
      "-1.0404004919853693e-09\n",
      "-1.0717046313528583e-09\n",
      "-1.0747631268426551e-09\n",
      "0.07969711977196023\n",
      "-1.0910391499661436e-09\n",
      "0.0014137271035316592\n",
      "-1.0128191652463984e-09\n",
      "-1.0380173508200853e-09\n",
      "-1.056516842027691e-09\n",
      "-1.0792767524779227e-09\n",
      "7.4842198598049816e-06\n",
      "4.334984091599554e-06\n",
      "0.0037176804286711655\n",
      "0.0025149017414731966\n",
      "-8.891884864950604e-10\n",
      "-1.0581508959605683e-09\n",
      "0.001413727105892643\n",
      "0.0015550997021081226\n",
      "0.002120590110419011\n",
      "0.0010934361833392497\n",
      "0.0010934361785625232\n",
      "0.020009863459941192\n",
      "0.066152824750824\n",
      "0.002827453096470055\n",
      "0.001202779704138047\n",
      "0.0014137271066713192\n",
      "0.002186871296384375\n",
      "0.001413727106553534\n",
      "0.008906474982245761\n",
      "0.05576519130349405\n",
      "0.0027335888474191274\n",
      "0.0016964723118283636\n",
      "0.0020775277837118008\n",
      "0.002405558249946638\n",
      "0.0021205900374933586\n",
      "0.002405558253918472\n",
      "0.04832622827634493\n",
      "0.004665296931590735\n",
      "-1.0852493724712108e-09\n",
      "-1.0852493717775704e-09\n",
      "-1.0724035261290296e-09\n",
      "0.003280306261607352\n",
      "0.004373741490137634\n",
      "0.15942283943991642\n",
      "0.0014137270782526626\n",
      "4.0982921099411695e-10\n",
      "0.003061612575446241\n",
      "1.0\n",
      "0.45454549358275487\n",
      "0.5454545064172451\n",
      "0.0018184347825806223\n",
      "0.008438736313104647\n",
      "0.0025316227900589877\n",
      "0.014547498737350277\n",
      "0.007273750774050513\n",
      "0.005455309727348623\n",
      "0.00763743816650903\n",
      "0.003938078390686427\n",
      "0.003656787273674851\n",
      "0.006188407328221288\n",
      "0.13923752644763307\n",
      "0.004219369460523193\n",
      "0.0379743035504607\n",
      "0.0028129138790310556\n",
      "0.007032280633110515\n",
      "0.0028129138661413693\n",
      "0.11532936082644354\n",
      "0.008157445094245229\n",
      "0.0005625849708887488\n",
      "0.14008297916650003\n",
      "0.03891455465635344\n",
      "0.0030942050672566504\n",
      "0.004364251582828616\n",
      "0.2675454952329701\n",
      "0.005344534034822992\n",
      "0.019127798767624708\n",
      "0.14008297895179966\n",
      "0.0018184395277811049\n",
      "1.0\n",
      "1.0\n",
      "1.0\n",
      "0.007917983494640337\n",
      "0.003674464960683129\n",
      "0.02058682113184823\n",
      "0.7410188394205516\n",
      "0.007918001519696502\n",
      "0.015836029107729698\n",
      "0.023754039931167488\n",
      "0.1156029480320115\n",
      "0.06369087240167168\n",
      "0.6666666652008183\n",
      "0.33333333479918165\n",
      "0.9853232388072377\n",
      "0.014676761192762393\n",
      "0.19395560358694583\n",
      "0.8060443964130541\n"
     ]
    }
   ],
   "source": [
    "for i in range(len(in_degree_list)):\n",
    "    if in_degree_list[i] > 0 and i in gen and power_generation[gen.index(i)] > 0.000001 and len(graph[i]) != 0:\n",
    "        total_gen = [0.0]\n",
    "        visited = set()\n",
    "        temp = collections.defaultdict(float)\n",
    "        dfs_cycle(i, visited, total_gen, temp, in_degree_list)\n",
    "        if total_gen != 0:\n",
    "            for k, v in temp.items():\n",
    "                print(v/total_gen[0])\n",
    "                bus_prop_mat[gen.index(k)][k] = v/total_gen[0]\n"
   ]
  },
  {
   "cell_type": "code",
   "execution_count": 228,
   "metadata": {},
   "outputs": [
    {
     "data": {
      "text/plain": [
       "69"
      ]
     },
     "execution_count": 228,
     "metadata": {},
     "output_type": "execute_result"
    }
   ],
   "source": [
    "res = 0\n",
    "for i, v in enumerate(in_degree_list):\n",
    "    if v > 0:\n",
    "        res += 1\n",
    "res"
   ]
  },
  {
   "cell_type": "code",
   "execution_count": 304,
   "metadata": {},
   "outputs": [
    {
     "data": {
      "text/plain": [
       "(1182, 490)"
      ]
     },
     "execution_count": 304,
     "metadata": {},
     "output_type": "execute_result"
    }
   ],
   "source": [
    "np.unravel_index(bus_prop_mat.argmax(), bus_prop_mat.shape)"
   ]
  },
  {
   "cell_type": "code",
   "execution_count": 255,
   "metadata": {},
   "outputs": [
    {
     "data": {
      "text/plain": [
       "1913"
      ]
     },
     "execution_count": 255,
     "metadata": {},
     "output_type": "execute_result"
    }
   ],
   "source": [
    "res = 0\n",
    "for i, v in enumerate(sum(bus_prop_mat)):\n",
    "    if abs(v-1) < 0.0001:\n",
    "        res += 1\n",
    "        #print(str(i) + \" :\" + str(v))\n",
    "res"
   ]
  },
  {
   "cell_type": "code",
   "execution_count": 247,
   "metadata": {},
   "outputs": [],
   "source": [
    "avg_carbon_emission_rate_node = carbon_emission @ bus_prop_mat"
   ]
  },
  {
   "cell_type": "code",
   "execution_count": 248,
   "metadata": {},
   "outputs": [],
   "source": [
    "df_ = pd.read_csv(\"GIS/CATS_buses.csv\")\n",
    "df_.insert(2, 'power_demand', power_demand)\n",
    "df_.insert(3, 'avg carbon emission', avg_carbon_emission_rate_node)\n",
    "df_.to_csv('GIS/CATS_buses_output.csv', index=False)"
   ]
  }
 ],
 "metadata": {
  "kernelspec": {
   "display_name": "Python 3",
   "language": "python",
   "name": "python3"
  },
  "language_info": {
   "codemirror_mode": {
    "name": "ipython",
    "version": 3
   },
   "file_extension": ".py",
   "mimetype": "text/x-python",
   "name": "python",
   "nbconvert_exporter": "python",
   "pygments_lexer": "ipython3",
   "version": "3.11.6"
  }
 },
 "nbformat": 4,
 "nbformat_minor": 2
}
